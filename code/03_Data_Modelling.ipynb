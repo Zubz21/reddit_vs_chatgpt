{
 "cells": [
  {
   "cell_type": "markdown",
   "id": "bdc89922-7364-4d58-82b8-ec71d2c64310",
   "metadata": {},
   "source": [
    "# Data Modelling"
   ]
  },
  {
   "cell_type": "markdown",
   "id": "903f9606-6721-4ff8-8662-dc6bfa61be8a",
   "metadata": {},
   "source": [
    "# Import Libraries"
   ]
  },
  {
   "cell_type": "code",
   "execution_count": 228,
   "id": "bf2ae90d-555e-4c7e-8438-7f724fc88c14",
   "metadata": {},
   "outputs": [],
   "source": [
    "import pandas as pd\n",
    "import numpy as np\n",
    "\n",
    "import nltk\n",
    "from nltk.stem import WordNetLemmatizer\n",
    "from nltk.corpus import stopwords\n",
    "\n",
    "from sklearn.model_selection import train_test_split\n",
    "from sklearn.model_selection import train_test_split, GridSearchCV\n",
    "from sklearn.pipeline import Pipeline\n",
    "from sklearn.naive_bayes import MultinomialNB,BernoulliNB\n",
    "from sklearn.linear_model import LogisticRegression\n",
    "from sklearn.metrics import confusion_matrix, ConfusionMatrixDisplay, f1_score\n",
    "from sklearn.feature_extraction.text import TfidfVectorizer, CountVectorizer\n",
    "from sklearn.ensemble import BaggingClassifier, RandomForestClassifier,AdaBoostClassifier, GradientBoostingClassifier\n",
    "from sklearn.tree import DecisionTreeClassifier\n",
    "from sklearn.preprocessing import StandardScaler\n",
    "from sklearn.svm import LinearSVC, SVC"
   ]
  },
  {
   "cell_type": "code",
   "execution_count": 2,
   "id": "8476c1d6-89f7-47a5-abb8-ce5303d4db9d",
   "metadata": {},
   "outputs": [
    {
     "data": {
      "text/html": [
       "<div>\n",
       "<style scoped>\n",
       "    .dataframe tbody tr th:only-of-type {\n",
       "        vertical-align: middle;\n",
       "    }\n",
       "\n",
       "    .dataframe tbody tr th {\n",
       "        vertical-align: top;\n",
       "    }\n",
       "\n",
       "    .dataframe thead th {\n",
       "        text-align: right;\n",
       "    }\n",
       "</style>\n",
       "<table border=\"1\" class=\"dataframe\">\n",
       "  <thead>\n",
       "    <tr style=\"text-align: right;\">\n",
       "      <th></th>\n",
       "      <th>title</th>\n",
       "      <th>reddit_question</th>\n",
       "      <th>subreddit</th>\n",
       "      <th>human_response</th>\n",
       "      <th>created_utc</th>\n",
       "      <th>chatgpt_response</th>\n",
       "      <th>human_sentence_length</th>\n",
       "      <th>chatgpt_sentence_length</th>\n",
       "      <th>reddit_sentence_length</th>\n",
       "      <th>reddit_clauses</th>\n",
       "      <th>...</th>\n",
       "      <th>chatgpt_clauses</th>\n",
       "      <th>reddit_unique_word_ratio</th>\n",
       "      <th>human_unique_word_ratio</th>\n",
       "      <th>chatgpt_unique_word_ratio</th>\n",
       "      <th>human_slang_count</th>\n",
       "      <th>chatgpt_slang_count</th>\n",
       "      <th>human_punctuation_count</th>\n",
       "      <th>chatgpt_punctuation_count</th>\n",
       "      <th>reddit_slang_count</th>\n",
       "      <th>reddit_punctuation_count</th>\n",
       "    </tr>\n",
       "  </thead>\n",
       "  <tbody>\n",
       "    <tr>\n",
       "      <th>0</th>\n",
       "      <td>I think my mums phone has been attacked with a...</td>\n",
       "      <td>Hi I believe my mum has recently installed som...</td>\n",
       "      <td>techsupport</td>\n",
       "      <td>Factory reset.</td>\n",
       "      <td>1.695151e+09</td>\n",
       "      <td>The easiest way to stop this is to try and res...</td>\n",
       "      <td>2</td>\n",
       "      <td>42</td>\n",
       "      <td>85</td>\n",
       "      <td>5</td>\n",
       "      <td>...</td>\n",
       "      <td>5</td>\n",
       "      <td>0.764706</td>\n",
       "      <td>1.000000</td>\n",
       "      <td>0.619048</td>\n",
       "      <td>0</td>\n",
       "      <td>0</td>\n",
       "      <td>1</td>\n",
       "      <td>5</td>\n",
       "      <td>0</td>\n",
       "      <td>7</td>\n",
       "    </tr>\n",
       "    <tr>\n",
       "      <th>1</th>\n",
       "      <td>PC acting on its own</td>\n",
       "      <td>Hi all, last night I had a few strange issues ...</td>\n",
       "      <td>techsupport</td>\n",
       "      <td>If you suspect you may have malware on your co...</td>\n",
       "      <td>1.695146e+09</td>\n",
       "      <td>There could be a few reasons why your PC is ex...</td>\n",
       "      <td>58</td>\n",
       "      <td>42</td>\n",
       "      <td>150</td>\n",
       "      <td>17</td>\n",
       "      <td>...</td>\n",
       "      <td>5</td>\n",
       "      <td>0.726667</td>\n",
       "      <td>0.810345</td>\n",
       "      <td>0.833333</td>\n",
       "      <td>0</td>\n",
       "      <td>0</td>\n",
       "      <td>35</td>\n",
       "      <td>5</td>\n",
       "      <td>0</td>\n",
       "      <td>18</td>\n",
       "    </tr>\n",
       "    <tr>\n",
       "      <th>2</th>\n",
       "      <td>Does installing windows 10 through iso affect ...</td>\n",
       "      <td>I don't have a disc or usb to create a bootabl...</td>\n",
       "      <td>techsupport</td>\n",
       "      <td>Nope. Windows will mount the ISO file as if it...</td>\n",
       "      <td>1.695141e+09</td>\n",
       "      <td>There is no difference between using a disc or...</td>\n",
       "      <td>44</td>\n",
       "      <td>44</td>\n",
       "      <td>59</td>\n",
       "      <td>6</td>\n",
       "      <td>...</td>\n",
       "      <td>5</td>\n",
       "      <td>0.830508</td>\n",
       "      <td>0.909091</td>\n",
       "      <td>0.750000</td>\n",
       "      <td>0</td>\n",
       "      <td>0</td>\n",
       "      <td>5</td>\n",
       "      <td>3</td>\n",
       "      <td>0</td>\n",
       "      <td>7</td>\n",
       "    </tr>\n",
       "    <tr>\n",
       "      <th>3</th>\n",
       "      <td>Only my roommates PC and phone will not work p...</td>\n",
       "      <td>Only certain websites work for him on PC, like...</td>\n",
       "      <td>techsupport</td>\n",
       "      <td>Do you have a newer computer and phone compare...</td>\n",
       "      <td>1.695141e+09</td>\n",
       "      <td>It's possible that your computer is not suppor...</td>\n",
       "      <td>20</td>\n",
       "      <td>43</td>\n",
       "      <td>58</td>\n",
       "      <td>6</td>\n",
       "      <td>...</td>\n",
       "      <td>3</td>\n",
       "      <td>0.896552</td>\n",
       "      <td>0.950000</td>\n",
       "      <td>0.720930</td>\n",
       "      <td>0</td>\n",
       "      <td>0</td>\n",
       "      <td>2</td>\n",
       "      <td>5</td>\n",
       "      <td>0</td>\n",
       "      <td>18</td>\n",
       "    </tr>\n",
       "    <tr>\n",
       "      <th>4</th>\n",
       "      <td>PC is stuck on BIOS screen, cannot press any k...</td>\n",
       "      <td>I built my brother a pc a few days ago from ol...</td>\n",
       "      <td>techsupport</td>\n",
       "      <td>I would try to pull the cmos battery and reset...</td>\n",
       "      <td>1.695140e+09</td>\n",
       "      <td>Thanks</td>\n",
       "      <td>19</td>\n",
       "      <td>1</td>\n",
       "      <td>163</td>\n",
       "      <td>12</td>\n",
       "      <td>...</td>\n",
       "      <td>1</td>\n",
       "      <td>0.625767</td>\n",
       "      <td>0.894737</td>\n",
       "      <td>1.000000</td>\n",
       "      <td>0</td>\n",
       "      <td>0</td>\n",
       "      <td>1</td>\n",
       "      <td>0</td>\n",
       "      <td>0</td>\n",
       "      <td>11</td>\n",
       "    </tr>\n",
       "    <tr>\n",
       "      <th>...</th>\n",
       "      <td>...</td>\n",
       "      <td>...</td>\n",
       "      <td>...</td>\n",
       "      <td>...</td>\n",
       "      <td>...</td>\n",
       "      <td>...</td>\n",
       "      <td>...</td>\n",
       "      <td>...</td>\n",
       "      <td>...</td>\n",
       "      <td>...</td>\n",
       "      <td>...</td>\n",
       "      <td>...</td>\n",
       "      <td>...</td>\n",
       "      <td>...</td>\n",
       "      <td>...</td>\n",
       "      <td>...</td>\n",
       "      <td>...</td>\n",
       "      <td>...</td>\n",
       "      <td>...</td>\n",
       "      <td>...</td>\n",
       "      <td>...</td>\n",
       "    </tr>\n",
       "    <tr>\n",
       "      <th>3417</th>\n",
       "      <td>Hollandaise sauce used in oven</td>\n",
       "      <td>Hi, new here so sorry if this isn’t well poste...</td>\n",
       "      <td>AskCulinary</td>\n",
       "      <td>In Denmark we are trained with two classic var...</td>\n",
       "      <td>1.695064e+09</td>\n",
       "      <td>!</td>\n",
       "      <td>55</td>\n",
       "      <td>1</td>\n",
       "      <td>105</td>\n",
       "      <td>12</td>\n",
       "      <td>...</td>\n",
       "      <td>1</td>\n",
       "      <td>0.742857</td>\n",
       "      <td>0.818182</td>\n",
       "      <td>1.000000</td>\n",
       "      <td>0</td>\n",
       "      <td>0</td>\n",
       "      <td>7</td>\n",
       "      <td>1</td>\n",
       "      <td>0</td>\n",
       "      <td>8</td>\n",
       "    </tr>\n",
       "    <tr>\n",
       "      <th>3418</th>\n",
       "      <td>Do I need to join academia to connect with aca...</td>\n",
       "      <td>Hi guys. I'm an avid reader and lover of knowl...</td>\n",
       "      <td>AskAcademia</td>\n",
       "      <td>Asacademics it can be challenging to find the ...</td>\n",
       "      <td>1.692433e+09</td>\n",
       "      <td>!</td>\n",
       "      <td>93</td>\n",
       "      <td>1</td>\n",
       "      <td>216</td>\n",
       "      <td>28</td>\n",
       "      <td>...</td>\n",
       "      <td>1</td>\n",
       "      <td>0.717593</td>\n",
       "      <td>0.731183</td>\n",
       "      <td>1.000000</td>\n",
       "      <td>0</td>\n",
       "      <td>0</td>\n",
       "      <td>11</td>\n",
       "      <td>1</td>\n",
       "      <td>0</td>\n",
       "      <td>34</td>\n",
       "    </tr>\n",
       "    <tr>\n",
       "      <th>3419</th>\n",
       "      <td>Flying with cold smoked fish</td>\n",
       "      <td>I'm on vacation, and went to a grocery store t...</td>\n",
       "      <td>AskCulinary</td>\n",
       "      <td>How long is the flight? They need to stay cold...</td>\n",
       "      <td>1.692368e+09</td>\n",
       "      <td>!</td>\n",
       "      <td>54</td>\n",
       "      <td>1</td>\n",
       "      <td>80</td>\n",
       "      <td>8</td>\n",
       "      <td>...</td>\n",
       "      <td>1</td>\n",
       "      <td>0.825000</td>\n",
       "      <td>0.888889</td>\n",
       "      <td>1.000000</td>\n",
       "      <td>0</td>\n",
       "      <td>0</td>\n",
       "      <td>5</td>\n",
       "      <td>1</td>\n",
       "      <td>0</td>\n",
       "      <td>10</td>\n",
       "    </tr>\n",
       "    <tr>\n",
       "      <th>3420</th>\n",
       "      <td>How do I cook marinated chicken to make it shr...</td>\n",
       "      <td>Title. \\n\\nI really only know how to throw chi...</td>\n",
       "      <td>AskCulinary</td>\n",
       "      <td>Crock pot would be the easiest way. Add enough...</td>\n",
       "      <td>1.691785e+09</td>\n",
       "      <td>!</td>\n",
       "      <td>30</td>\n",
       "      <td>1</td>\n",
       "      <td>84</td>\n",
       "      <td>10</td>\n",
       "      <td>...</td>\n",
       "      <td>1</td>\n",
       "      <td>0.678571</td>\n",
       "      <td>0.966667</td>\n",
       "      <td>1.000000</td>\n",
       "      <td>0</td>\n",
       "      <td>0</td>\n",
       "      <td>4</td>\n",
       "      <td>1</td>\n",
       "      <td>0</td>\n",
       "      <td>7</td>\n",
       "    </tr>\n",
       "    <tr>\n",
       "      <th>3421</th>\n",
       "      <td>Milk powder in fried chicken breading/coating?</td>\n",
       "      <td>I’m experimenting w spicy fried chicken and a ...</td>\n",
       "      <td>AskCulinary</td>\n",
       "      <td>Browns it and makes it much more savoury. Like...</td>\n",
       "      <td>1.692150e+09</td>\n",
       "      <td>!</td>\n",
       "      <td>30</td>\n",
       "      <td>1</td>\n",
       "      <td>77</td>\n",
       "      <td>3</td>\n",
       "      <td>...</td>\n",
       "      <td>1</td>\n",
       "      <td>0.792208</td>\n",
       "      <td>0.866667</td>\n",
       "      <td>1.000000</td>\n",
       "      <td>0</td>\n",
       "      <td>0</td>\n",
       "      <td>5</td>\n",
       "      <td>1</td>\n",
       "      <td>0</td>\n",
       "      <td>6</td>\n",
       "    </tr>\n",
       "  </tbody>\n",
       "</table>\n",
       "<p>3422 rows × 21 columns</p>\n",
       "</div>"
      ],
      "text/plain": [
       "                                                  title  \\\n",
       "0     I think my mums phone has been attacked with a...   \n",
       "1                                  PC acting on its own   \n",
       "2     Does installing windows 10 through iso affect ...   \n",
       "3     Only my roommates PC and phone will not work p...   \n",
       "4     PC is stuck on BIOS screen, cannot press any k...   \n",
       "...                                                 ...   \n",
       "3417                     Hollandaise sauce used in oven   \n",
       "3418  Do I need to join academia to connect with aca...   \n",
       "3419                       Flying with cold smoked fish   \n",
       "3420  How do I cook marinated chicken to make it shr...   \n",
       "3421     Milk powder in fried chicken breading/coating?   \n",
       "\n",
       "                                        reddit_question    subreddit  \\\n",
       "0     Hi I believe my mum has recently installed som...  techsupport   \n",
       "1     Hi all, last night I had a few strange issues ...  techsupport   \n",
       "2     I don't have a disc or usb to create a bootabl...  techsupport   \n",
       "3     Only certain websites work for him on PC, like...  techsupport   \n",
       "4     I built my brother a pc a few days ago from ol...  techsupport   \n",
       "...                                                 ...          ...   \n",
       "3417  Hi, new here so sorry if this isn’t well poste...  AskCulinary   \n",
       "3418  Hi guys. I'm an avid reader and lover of knowl...  AskAcademia   \n",
       "3419  I'm on vacation, and went to a grocery store t...  AskCulinary   \n",
       "3420  Title. \\n\\nI really only know how to throw chi...  AskCulinary   \n",
       "3421  I’m experimenting w spicy fried chicken and a ...  AskCulinary   \n",
       "\n",
       "                                         human_response   created_utc  \\\n",
       "0                                        Factory reset.  1.695151e+09   \n",
       "1     If you suspect you may have malware on your co...  1.695146e+09   \n",
       "2     Nope. Windows will mount the ISO file as if it...  1.695141e+09   \n",
       "3     Do you have a newer computer and phone compare...  1.695141e+09   \n",
       "4     I would try to pull the cmos battery and reset...  1.695140e+09   \n",
       "...                                                 ...           ...   \n",
       "3417  In Denmark we are trained with two classic var...  1.695064e+09   \n",
       "3418  Asacademics it can be challenging to find the ...  1.692433e+09   \n",
       "3419  How long is the flight? They need to stay cold...  1.692368e+09   \n",
       "3420  Crock pot would be the easiest way. Add enough...  1.691785e+09   \n",
       "3421  Browns it and makes it much more savoury. Like...  1.692150e+09   \n",
       "\n",
       "                                       chatgpt_response  \\\n",
       "0     The easiest way to stop this is to try and res...   \n",
       "1     There could be a few reasons why your PC is ex...   \n",
       "2     There is no difference between using a disc or...   \n",
       "3     It's possible that your computer is not suppor...   \n",
       "4                                                Thanks   \n",
       "...                                                 ...   \n",
       "3417                                                  !   \n",
       "3418                                                  !   \n",
       "3419                                                  !   \n",
       "3420                                                  !   \n",
       "3421                                                  !   \n",
       "\n",
       "      human_sentence_length  chatgpt_sentence_length  reddit_sentence_length  \\\n",
       "0                         2                       42                      85   \n",
       "1                        58                       42                     150   \n",
       "2                        44                       44                      59   \n",
       "3                        20                       43                      58   \n",
       "4                        19                        1                     163   \n",
       "...                     ...                      ...                     ...   \n",
       "3417                     55                        1                     105   \n",
       "3418                     93                        1                     216   \n",
       "3419                     54                        1                      80   \n",
       "3420                     30                        1                      84   \n",
       "3421                     30                        1                      77   \n",
       "\n",
       "      reddit_clauses  ...  chatgpt_clauses  reddit_unique_word_ratio  \\\n",
       "0                  5  ...                5                  0.764706   \n",
       "1                 17  ...                5                  0.726667   \n",
       "2                  6  ...                5                  0.830508   \n",
       "3                  6  ...                3                  0.896552   \n",
       "4                 12  ...                1                  0.625767   \n",
       "...              ...  ...              ...                       ...   \n",
       "3417              12  ...                1                  0.742857   \n",
       "3418              28  ...                1                  0.717593   \n",
       "3419               8  ...                1                  0.825000   \n",
       "3420              10  ...                1                  0.678571   \n",
       "3421               3  ...                1                  0.792208   \n",
       "\n",
       "      human_unique_word_ratio  chatgpt_unique_word_ratio  human_slang_count  \\\n",
       "0                    1.000000                   0.619048                  0   \n",
       "1                    0.810345                   0.833333                  0   \n",
       "2                    0.909091                   0.750000                  0   \n",
       "3                    0.950000                   0.720930                  0   \n",
       "4                    0.894737                   1.000000                  0   \n",
       "...                       ...                        ...                ...   \n",
       "3417                 0.818182                   1.000000                  0   \n",
       "3418                 0.731183                   1.000000                  0   \n",
       "3419                 0.888889                   1.000000                  0   \n",
       "3420                 0.966667                   1.000000                  0   \n",
       "3421                 0.866667                   1.000000                  0   \n",
       "\n",
       "      chatgpt_slang_count  human_punctuation_count  chatgpt_punctuation_count  \\\n",
       "0                       0                        1                          5   \n",
       "1                       0                       35                          5   \n",
       "2                       0                        5                          3   \n",
       "3                       0                        2                          5   \n",
       "4                       0                        1                          0   \n",
       "...                   ...                      ...                        ...   \n",
       "3417                    0                        7                          1   \n",
       "3418                    0                       11                          1   \n",
       "3419                    0                        5                          1   \n",
       "3420                    0                        4                          1   \n",
       "3421                    0                        5                          1   \n",
       "\n",
       "      reddit_slang_count  reddit_punctuation_count  \n",
       "0                      0                         7  \n",
       "1                      0                        18  \n",
       "2                      0                         7  \n",
       "3                      0                        18  \n",
       "4                      0                        11  \n",
       "...                  ...                       ...  \n",
       "3417                   0                         8  \n",
       "3418                   0                        34  \n",
       "3419                   0                        10  \n",
       "3420                   0                         7  \n",
       "3421                   0                         6  \n",
       "\n",
       "[3422 rows x 21 columns]"
      ]
     },
     "execution_count": 2,
     "metadata": {},
     "output_type": "execute_result"
    }
   ],
   "source": [
    "data = pd.read_csv(\"cleaned_dataset.csv\")\n",
    "data.drop(\"Unnamed: 0\",axis=1)"
   ]
  },
  {
   "cell_type": "code",
   "execution_count": 3,
   "id": "96d55d79-f6ff-4d30-8707-5ad60cd88081",
   "metadata": {},
   "outputs": [
    {
     "data": {
      "text/plain": [
       "(3422, 22)"
      ]
     },
     "execution_count": 3,
     "metadata": {},
     "output_type": "execute_result"
    }
   ],
   "source": [
    "data.shape"
   ]
  },
  {
   "cell_type": "markdown",
   "id": "75683187-04fa-42ce-9c6a-68ca5d828b1a",
   "metadata": {},
   "source": [
    "# Preprocessing"
   ]
  },
  {
   "cell_type": "markdown",
   "id": "de930e28-5f64-44cc-9463-bcdf1f1731bc",
   "metadata": {},
   "source": [
    "So since we are creating a binary classification model we need to rearrange my data to simple two columns. The text being one and the label being the second. The label will be 1 if human and 0 if chatgpt. At first I was under the assumption that we would be analying the reddit questions as well but in the case of binary classificaiton we need to train our data on human and ai response and then have it make a decision. I will add teh reddit question as a column to just for my own visual purposes. It wont be in the model"
   ]
  },
  {
   "cell_type": "code",
   "execution_count": 4,
   "id": "79d356e1-242e-4d40-898b-f6b920c1016b",
   "metadata": {},
   "outputs": [
    {
     "data": {
      "text/html": [
       "<div>\n",
       "<style scoped>\n",
       "    .dataframe tbody tr th:only-of-type {\n",
       "        vertical-align: middle;\n",
       "    }\n",
       "\n",
       "    .dataframe tbody tr th {\n",
       "        vertical-align: top;\n",
       "    }\n",
       "\n",
       "    .dataframe thead th {\n",
       "        text-align: right;\n",
       "    }\n",
       "</style>\n",
       "<table border=\"1\" class=\"dataframe\">\n",
       "  <thead>\n",
       "    <tr style=\"text-align: right;\">\n",
       "      <th></th>\n",
       "      <th>reddit_question</th>\n",
       "      <th>response</th>\n",
       "      <th>label</th>\n",
       "    </tr>\n",
       "  </thead>\n",
       "  <tbody>\n",
       "    <tr>\n",
       "      <th>0</th>\n",
       "      <td>Hi I believe my mum has recently installed som...</td>\n",
       "      <td>Factory reset.</td>\n",
       "      <td>1</td>\n",
       "    </tr>\n",
       "    <tr>\n",
       "      <th>1</th>\n",
       "      <td>Hi all, last night I had a few strange issues ...</td>\n",
       "      <td>If you suspect you may have malware on your co...</td>\n",
       "      <td>1</td>\n",
       "    </tr>\n",
       "    <tr>\n",
       "      <th>2</th>\n",
       "      <td>I don't have a disc or usb to create a bootabl...</td>\n",
       "      <td>Nope. Windows will mount the ISO file as if it...</td>\n",
       "      <td>1</td>\n",
       "    </tr>\n",
       "    <tr>\n",
       "      <th>3</th>\n",
       "      <td>Only certain websites work for him on PC, like...</td>\n",
       "      <td>Do you have a newer computer and phone compare...</td>\n",
       "      <td>1</td>\n",
       "    </tr>\n",
       "    <tr>\n",
       "      <th>4</th>\n",
       "      <td>I built my brother a pc a few days ago from ol...</td>\n",
       "      <td>I would try to pull the cmos battery and reset...</td>\n",
       "      <td>1</td>\n",
       "    </tr>\n",
       "  </tbody>\n",
       "</table>\n",
       "</div>"
      ],
      "text/plain": [
       "                                     reddit_question  \\\n",
       "0  Hi I believe my mum has recently installed som...   \n",
       "1  Hi all, last night I had a few strange issues ...   \n",
       "2  I don't have a disc or usb to create a bootabl...   \n",
       "3  Only certain websites work for him on PC, like...   \n",
       "4  I built my brother a pc a few days ago from ol...   \n",
       "\n",
       "                                            response  label  \n",
       "0                                     Factory reset.      1  \n",
       "1  If you suspect you may have malware on your co...      1  \n",
       "2  Nope. Windows will mount the ISO file as if it...      1  \n",
       "3  Do you have a newer computer and phone compare...      1  \n",
       "4  I would try to pull the cmos battery and reset...      1  "
      ]
     },
     "execution_count": 4,
     "metadata": {},
     "output_type": "execute_result"
    }
   ],
   "source": [
    "human_df = data[['reddit_question', 'human_response']].copy()\n",
    "human_df['label'] = 1 \n",
    "human_df.rename(columns={'human_response': 'response'}, inplace=True)\n",
    "\n",
    "chatgpt_df = data[['reddit_question', 'chatgpt_response']].copy()\n",
    "chatgpt_df['label'] = 0 \n",
    "chatgpt_df.rename(columns={'chatgpt_response': 'response'}, inplace=True)\n",
    "\n",
    "text_data = pd.concat([human_df, chatgpt_df], ignore_index=True)\n",
    "\n",
    "text_data.head()"
   ]
  },
  {
   "cell_type": "code",
   "execution_count": 5,
   "id": "0068a229-0632-45f6-a8ca-324fba6146db",
   "metadata": {},
   "outputs": [
    {
     "data": {
      "text/plain": [
       "1    3422\n",
       "0    3422\n",
       "Name: label, dtype: int64"
      ]
     },
     "execution_count": 5,
     "metadata": {},
     "output_type": "execute_result"
    }
   ],
   "source": [
    "text_data['label'].value_counts()"
   ]
  },
  {
   "cell_type": "markdown",
   "id": "b7bc0f29-624a-437f-948a-30ed80dd797e",
   "metadata": {},
   "source": [
    "Before I continue with additional text preprocessing I will split my data into X and y and create my train test split"
   ]
  },
  {
   "cell_type": "code",
   "execution_count": 6,
   "id": "1b09d288-fbba-40e0-9bb2-df0af4522b48",
   "metadata": {},
   "outputs": [],
   "source": [
    "X = text_data['response']\n",
    "y = text_data['label'] \n",
    "X_train, X_test, y_train, y_test = train_test_split(X, y, test_size=0.2, stratify=y, random_state=42)"
   ]
  },
  {
   "cell_type": "markdown",
   "id": "f44c8d49-cd0d-481c-94a0-e14a15816859",
   "metadata": {},
   "source": [
    "Next I will create my CVEC and TVEC instances that I will be building my models on. We will fit the vectorize on the training data in order to train our models on them. We also need to transform the test data as well but will not do a fit transform as it is not supposed to see the data"
   ]
  },
  {
   "cell_type": "code",
   "execution_count": 7,
   "id": "d36f6599-ced3-4e15-a24b-c9c84bea4b6a",
   "metadata": {},
   "outputs": [],
   "source": [
    "cvec = CountVectorizer()\n",
    "tvec = TfidfVectorizer()"
   ]
  },
  {
   "cell_type": "code",
   "execution_count": 8,
   "id": "1bcbadbe-7d83-4ed4-bf07-26abecebd417",
   "metadata": {},
   "outputs": [
    {
     "data": {
      "text/plain": [
       "CountVectorizer()"
      ]
     },
     "execution_count": 8,
     "metadata": {},
     "output_type": "execute_result"
    }
   ],
   "source": [
    "cvec.fit(X_train,y_train)"
   ]
  },
  {
   "cell_type": "code",
   "execution_count": 9,
   "id": "043902fa-7fe5-40ff-81ee-28b387c30be1",
   "metadata": {},
   "outputs": [
    {
     "data": {
      "text/plain": [
       "TfidfVectorizer()"
      ]
     },
     "execution_count": 9,
     "metadata": {},
     "output_type": "execute_result"
    }
   ],
   "source": [
    "tvec.fit(X_train,y_train)"
   ]
  },
  {
   "cell_type": "code",
   "execution_count": 10,
   "id": "c4da4678-94bc-4e57-85aa-d0f2641bdf51",
   "metadata": {},
   "outputs": [],
   "source": [
    "X_train_cvec = cvec.transform(X_train)\n",
    "X_test_cvec = cvec.transform(X_test)"
   ]
  },
  {
   "cell_type": "code",
   "execution_count": 11,
   "id": "9c9aba27-e13a-40b7-8787-239d36899eb7",
   "metadata": {},
   "outputs": [],
   "source": [
    "X_train_tvec = tvec.transform(X_train)\n",
    "X_test_tvec = tvec.transform(X_test)"
   ]
  },
  {
   "cell_type": "markdown",
   "id": "fd8cb40b-8d5b-4f2f-b500-0c386cc1426b",
   "metadata": {},
   "source": [
    "At this point I am going to vectorizer the text I will do a TFID and a CountVec eventually. "
   ]
  },
  {
   "cell_type": "markdown",
   "id": "a2cf4613-6bc7-400a-9274-99f2914ece2e",
   "metadata": {},
   "source": [
    "# Modeling"
   ]
  },
  {
   "cell_type": "markdown",
   "id": "de5021c8-7164-40dc-8051-b03401d4ddf0",
   "metadata": {},
   "source": [
    "### Baseline Accuracy"
   ]
  },
  {
   "cell_type": "code",
   "execution_count": 12,
   "id": "6289de09-350b-4102-ab83-12ddd18f71ef",
   "metadata": {},
   "outputs": [
    {
     "data": {
      "text/plain": [
       "1    0.500091\n",
       "0    0.499909\n",
       "Name: label, dtype: float64"
      ]
     },
     "execution_count": 12,
     "metadata": {},
     "output_type": "execute_result"
    }
   ],
   "source": [
    "y_train.value_counts(normalize=True)"
   ]
  },
  {
   "cell_type": "markdown",
   "id": "db635978-2e11-48ee-9b03-2f16e905ad5d",
   "metadata": {},
   "source": [
    "I am re train test splitting here to actually begin the modeling. Will go back and the address the code made above"
   ]
  },
  {
   "cell_type": "code",
   "execution_count": 13,
   "id": "9e4e6744-9d8a-4f2c-a314-abd36e6a5685",
   "metadata": {},
   "outputs": [],
   "source": [
    "X_train, X_test, y_train, y_test = train_test_split(X,\n",
    "                                                    y,\n",
    "                                                    test_size=0.33,\n",
    "                                                    stratify=y,\n",
    "                                                    random_state=42)"
   ]
  },
  {
   "cell_type": "code",
   "execution_count": 14,
   "id": "36ba7087-e48c-470a-8994-a4ea52e40028",
   "metadata": {},
   "outputs": [],
   "source": [
    "stopwords = set(nltk.corpus.stopwords.words('english'))"
   ]
  },
  {
   "cell_type": "code",
   "execution_count": 46,
   "id": "21137826-ef7e-4388-95d5-8404457aa8b4",
   "metadata": {},
   "outputs": [],
   "source": [
    "nltk_stop = stopwords.words('english')\n"
   ]
  },
  {
   "cell_type": "markdown",
   "id": "f3af2a48-9ab5-41fc-81e7-04ae5ecc5f62",
   "metadata": {},
   "source": [
    "##### In order to not explain multiples timeswhat I am doing after each model and just provide my analysis I will explain up here what is about to follow.\n",
    "\n",
    "##### I will be testing out both CountVectorizer and TFIDfVectorizer Pipes for Logistic Regression, Bernouli, and Multinomial. The initial parameters will be as follow:\n",
    "\n",
    "###### 'cvec__max_features': [1000, 5000],\n",
    "######    'cvec__min_df': [3, 5],\n",
    "######    'cvec__max_df': [0.9, 0.95],\n",
    "######    'cvec__ngram_range': [(1, 1), (1, 2)],\n",
    "######    'cvec__stop_words': [stopwords]\n",
    "\n",
    "##### After using that parameter sets for all the classification models I want to test out I will then create a confusion matrix. For each matrix I will look for recall, senstivity, specificity. and f1 score. Given the problem statment of this project the thing we would like to optimize for is accuracy. There isnt any realy life dangers and implications around false negatives or false positives but ratehr just be as accurate as possible.\n",
    "\n",
    "##### After I complete this runthrough of initiatl modelling I will single out the best model and then optimize for that"
   ]
  },
  {
   "cell_type": "markdown",
   "id": "6a53ca3e-822d-40f1-ac03-59138cb88be8",
   "metadata": {},
   "source": [
    "### Logistic Regression CVEC"
   ]
  },
  {
   "cell_type": "code",
   "execution_count": 15,
   "id": "c65bc453-2084-48cc-b931-493d34e07153",
   "metadata": {},
   "outputs": [],
   "source": [
    "pipe_cvec_lr = Pipeline([\n",
    "    ('cvec', CountVectorizer()),\n",
    "    ('lr', LogisticRegression())\n",
    "])"
   ]
  },
  {
   "cell_type": "code",
   "execution_count": 16,
   "id": "2e64c376-2788-43ac-b678-aa384ec4eee9",
   "metadata": {},
   "outputs": [],
   "source": [
    "params_cvec_lr = {\n",
    "    'cvec__max_features': [1000,5000],\n",
    "    'cvec__min_df': [3, 5],\n",
    "    'cvec__max_df': [0.9, 0.95],\n",
    "    'cvec__ngram_range': [(1, 1), (1, 2)],\n",
    "    'cvec__stop_words': [None, 'english', nltk_stop]\n",
    "}"
   ]
  },
  {
   "cell_type": "code",
   "execution_count": 17,
   "id": "bda2742c-256b-467b-b700-eb5a88fa65d0",
   "metadata": {},
   "outputs": [
    {
     "data": {
      "text/plain": [
       "GridSearchCV(cv=5,\n",
       "             estimator=Pipeline(steps=[('cvec', CountVectorizer()),\n",
       "                                       ('lr', LogisticRegression())]),\n",
       "             param_grid={'cvec__max_df': [0.9, 0.95],\n",
       "                         'cvec__max_features': [1000, 5000],\n",
       "                         'cvec__min_df': [3, 5],\n",
       "                         'cvec__ngram_range': [(1, 1), (1, 2)],\n",
       "                         'cvec__stop_words': [{'a', 'about', 'above', 'after',\n",
       "                                               'again', 'against', 'ain', 'all',\n",
       "                                               'am', 'an', 'and', 'any', 'are',\n",
       "                                               'aren', \"aren't\", 'as', 'at',\n",
       "                                               'be', 'because', 'been',\n",
       "                                               'before', 'being', 'below',\n",
       "                                               'between', 'both', 'but', 'by',\n",
       "                                               'can', 'couldn', \"couldn't\", ...}]})"
      ]
     },
     "execution_count": 17,
     "metadata": {},
     "output_type": "execute_result"
    }
   ],
   "source": [
    "grid_cvec_lr = GridSearchCV(pipe_cvec_lr, params_cvec_lr, cv=5)\n",
    "grid_cvec_lr.fit(X_train, y_train)"
   ]
  },
  {
   "cell_type": "code",
   "execution_count": 18,
   "id": "0ade4b5b-9966-480e-979a-e26163ec5cab",
   "metadata": {},
   "outputs": [],
   "source": [
    "#Best score\n",
    "best = grid_cvec_lr.best_score_\n",
    "#Train score\n",
    "train_s = grid_cvec_lr.score(X_train, y_train)\n",
    "#Test score and accuracy\n",
    "test_s = grid_cvec_lr.score(X_test, y_test)"
   ]
  },
  {
   "cell_type": "code",
   "execution_count": 19,
   "id": "158a8b5d-96ad-4111-b2aa-010177e263b8",
   "metadata": {},
   "outputs": [
    {
     "name": "stdout",
     "output_type": "stream",
     "text": [
      "CVEC Logistic Regression had a best score of: 0.7810250817884405\n",
      "CVEC Logistic Regression had a train score of: 0.9657579062159215\n",
      "CVEC Logistic Regression had a test score of: 0.798140770252324\n"
     ]
    }
   ],
   "source": [
    "print(f'CVEC Logistic Regression had a best score of: {best}')\n",
    "print(f'CVEC Logistic Regression had a train score of: {train_s}')\n",
    "print(f'CVEC Logistic Regression had a test score of: {test_s}')"
   ]
  },
  {
   "cell_type": "code",
   "execution_count": 100,
   "id": "f795080d-876a-419d-be09-78ef149df435",
   "metadata": {},
   "outputs": [
    {
     "data": {
      "text/plain": [
       "{'cvec__max_df': 0.9,\n",
       " 'cvec__max_features': 5000,\n",
       " 'cvec__min_df': 3,\n",
       " 'cvec__ngram_range': (1, 2),\n",
       " 'cvec__stop_words': {'a',\n",
       "  'about',\n",
       "  'above',\n",
       "  'after',\n",
       "  'again',\n",
       "  'against',\n",
       "  'ain',\n",
       "  'all',\n",
       "  'am',\n",
       "  'an',\n",
       "  'and',\n",
       "  'any',\n",
       "  'are',\n",
       "  'aren',\n",
       "  \"aren't\",\n",
       "  'as',\n",
       "  'at',\n",
       "  'be',\n",
       "  'because',\n",
       "  'been',\n",
       "  'before',\n",
       "  'being',\n",
       "  'below',\n",
       "  'between',\n",
       "  'both',\n",
       "  'but',\n",
       "  'by',\n",
       "  'can',\n",
       "  'couldn',\n",
       "  \"couldn't\",\n",
       "  'd',\n",
       "  'did',\n",
       "  'didn',\n",
       "  \"didn't\",\n",
       "  'do',\n",
       "  'does',\n",
       "  'doesn',\n",
       "  \"doesn't\",\n",
       "  'doing',\n",
       "  'don',\n",
       "  \"don't\",\n",
       "  'down',\n",
       "  'during',\n",
       "  'each',\n",
       "  'few',\n",
       "  'for',\n",
       "  'from',\n",
       "  'further',\n",
       "  'had',\n",
       "  'hadn',\n",
       "  \"hadn't\",\n",
       "  'has',\n",
       "  'hasn',\n",
       "  \"hasn't\",\n",
       "  'have',\n",
       "  'haven',\n",
       "  \"haven't\",\n",
       "  'having',\n",
       "  'he',\n",
       "  'her',\n",
       "  'here',\n",
       "  'hers',\n",
       "  'herself',\n",
       "  'him',\n",
       "  'himself',\n",
       "  'his',\n",
       "  'how',\n",
       "  'i',\n",
       "  'if',\n",
       "  'in',\n",
       "  'into',\n",
       "  'is',\n",
       "  'isn',\n",
       "  \"isn't\",\n",
       "  'it',\n",
       "  \"it's\",\n",
       "  'its',\n",
       "  'itself',\n",
       "  'just',\n",
       "  'll',\n",
       "  'm',\n",
       "  'ma',\n",
       "  'me',\n",
       "  'mightn',\n",
       "  \"mightn't\",\n",
       "  'more',\n",
       "  'most',\n",
       "  'mustn',\n",
       "  \"mustn't\",\n",
       "  'my',\n",
       "  'myself',\n",
       "  'needn',\n",
       "  \"needn't\",\n",
       "  'no',\n",
       "  'nor',\n",
       "  'not',\n",
       "  'now',\n",
       "  'o',\n",
       "  'of',\n",
       "  'off',\n",
       "  'on',\n",
       "  'once',\n",
       "  'only',\n",
       "  'or',\n",
       "  'other',\n",
       "  'our',\n",
       "  'ours',\n",
       "  'ourselves',\n",
       "  'out',\n",
       "  'over',\n",
       "  'own',\n",
       "  're',\n",
       "  's',\n",
       "  'same',\n",
       "  'shan',\n",
       "  \"shan't\",\n",
       "  'she',\n",
       "  \"she's\",\n",
       "  'should',\n",
       "  \"should've\",\n",
       "  'shouldn',\n",
       "  \"shouldn't\",\n",
       "  'so',\n",
       "  'some',\n",
       "  'such',\n",
       "  't',\n",
       "  'than',\n",
       "  'that',\n",
       "  \"that'll\",\n",
       "  'the',\n",
       "  'their',\n",
       "  'theirs',\n",
       "  'them',\n",
       "  'themselves',\n",
       "  'then',\n",
       "  'there',\n",
       "  'these',\n",
       "  'they',\n",
       "  'this',\n",
       "  'those',\n",
       "  'through',\n",
       "  'to',\n",
       "  'too',\n",
       "  'under',\n",
       "  'until',\n",
       "  'up',\n",
       "  've',\n",
       "  'very',\n",
       "  'was',\n",
       "  'wasn',\n",
       "  \"wasn't\",\n",
       "  'we',\n",
       "  'were',\n",
       "  'weren',\n",
       "  \"weren't\",\n",
       "  'what',\n",
       "  'when',\n",
       "  'where',\n",
       "  'which',\n",
       "  'while',\n",
       "  'who',\n",
       "  'whom',\n",
       "  'why',\n",
       "  'will',\n",
       "  'with',\n",
       "  'won',\n",
       "  \"won't\",\n",
       "  'wouldn',\n",
       "  \"wouldn't\",\n",
       "  'y',\n",
       "  'you',\n",
       "  \"you'd\",\n",
       "  \"you'll\",\n",
       "  \"you're\",\n",
       "  \"you've\",\n",
       "  'your',\n",
       "  'yours',\n",
       "  'yourself',\n",
       "  'yourselves'}}"
      ]
     },
     "execution_count": 100,
     "metadata": {},
     "output_type": "execute_result"
    }
   ],
   "source": [
    "grid_cvec_lr.best_params_"
   ]
  },
  {
   "cell_type": "code",
   "execution_count": 20,
   "id": "0c8e754b-8879-42b8-854d-6b2ddabebf17",
   "metadata": {},
   "outputs": [],
   "source": [
    "#Prediction\n",
    "preds_cvec_lr = grid_cvec_lr.predict(X_test)\n",
    "#Values for confusion matrix\n",
    "tn, fp, fn, tp = confusion_matrix(y_test, preds_cvec_lr).ravel()"
   ]
  },
  {
   "cell_type": "code",
   "execution_count": 21,
   "id": "9442fb08-ac03-44b0-8622-99b498791c3f",
   "metadata": {},
   "outputs": [
    {
     "data": {
      "image/png": "[encoded data removed]",
      "text/plain": [
       "<Figure size 640x480 with 2 Axes>"
      ]
     },
     "metadata": {},
     "output_type": "display_data"
    }
   ],
   "source": [
    "ConfusionMatrixDisplay.from_estimator(grid_cvec_lr, X_test, y_test, cmap='Blues', values_format='d');"
   ]
  },
  {
   "cell_type": "code",
   "execution_count": 22,
   "id": "a301a975-8b12-4152-9eaa-23b727d84976",
   "metadata": {},
   "outputs": [],
   "source": [
    "#Sensitivity\n",
    "sensitivity = tp / (tp+fn)\n",
    "#Specificity\n",
    "specificity  = tn/(tn+fp)\n",
    "#F1 Score\n",
    "f1 = f1_score(y_test, preds_cvec_lr)"
   ]
  },
  {
   "cell_type": "code",
   "execution_count": 23,
   "id": "a5a4db61-429c-4363-9e44-1370430b3811",
   "metadata": {},
   "outputs": [
    {
     "name": "stdout",
     "output_type": "stream",
     "text": [
      "CVEC Logistic Regression had a sensitivity of: 0.775022143489814\n",
      "CVEC Logistic Regression had a specificty of: 0.8212389380530973\n",
      "CVEC Logistic Regression had a f1 score of: 0.7932910244786945\n"
     ]
    }
   ],
   "source": [
    "print(f'CVEC Logistic Regression had a sensitivity of: {sensitivity}')\n",
    "print(f'CVEC Logistic Regression had a specificty of: {specificity}')\n",
    "print(f'CVEC Logistic Regression had a f1 score of: {f1}')"
   ]
  },
  {
   "cell_type": "markdown",
   "id": "deb96f84-d1bb-480a-ae07-cf67028f2790",
   "metadata": {},
   "source": [
    "We have a really nice train score and decent test score. Overall the model is training well but could do better to unseen data. When looking at the best parameters we can tell that more ngrams and more features is ideal but for the sake of testing multiple models we will keep the params low for each model and improve on the best one.\n",
    "\n",
    "Overall I would like to go off f1 score since 0 or 1 are not exclsuively more important than one another. We need to do well in both deparments. Overall the f1 score is okay.\n",
    "\n",
    "---"
   ]
  },
  {
   "cell_type": "markdown",
   "id": "25e079fa-53fa-40c8-aae3-140238133d75",
   "metadata": {},
   "source": [
    "### Logistic Regression TVEC"
   ]
  },
  {
   "cell_type": "code",
   "execution_count": 25,
   "id": "dbce4db3-932e-45fb-beec-b0f2020c4efd",
   "metadata": {},
   "outputs": [],
   "source": [
    "pipe_tvec_lr = Pipeline([\n",
    "    ('tvec', TfidfVectorizer()),\n",
    "    ('lr', LogisticRegression())\n",
    "])"
   ]
  },
  {
   "cell_type": "code",
   "execution_count": 26,
   "id": "dfb165df-8d61-4e5b-a93c-fbbcd4be2849",
   "metadata": {},
   "outputs": [],
   "source": [
    "params_tvec_lr = {\n",
    "    'tvec__max_features': [1000, 5000],\n",
    "    'tvec__min_df': [3, 5],\n",
    "    'tvec__max_df': [0.9, 0.95],\n",
    "    'tvec__ngram_range': [(1, 1), (1, 2)],\n",
    "    'tvec__stop_words': [None, 'english', nltk_stop]\n",
    "}"
   ]
  },
  {
   "cell_type": "code",
   "execution_count": 27,
   "id": "32f2ada5-0a76-48dc-b2bc-0710092d682d",
   "metadata": {},
   "outputs": [
    {
     "data": {
      "text/plain": [
       "GridSearchCV(cv=5,\n",
       "             estimator=Pipeline(steps=[('cvec', TfidfVectorizer()),\n",
       "                                       ('lr', LogisticRegression())]),\n",
       "             param_grid={'cvec__max_df': [0.9, 0.95],\n",
       "                         'cvec__max_features': [1000, 5000],\n",
       "                         'cvec__min_df': [3, 5],\n",
       "                         'cvec__ngram_range': [(1, 1), (1, 2)],\n",
       "                         'cvec__stop_words': [{'a', 'about', 'above', 'after',\n",
       "                                               'again', 'against', 'ain', 'all',\n",
       "                                               'am', 'an', 'and', 'any', 'are',\n",
       "                                               'aren', \"aren't\", 'as', 'at',\n",
       "                                               'be', 'because', 'been',\n",
       "                                               'before', 'being', 'below',\n",
       "                                               'between', 'both', 'but', 'by',\n",
       "                                               'can', 'couldn', \"couldn't\", ...}]})"
      ]
     },
     "execution_count": 27,
     "metadata": {},
     "output_type": "execute_result"
    }
   ],
   "source": [
    "grid_tvec_lr = GridSearchCV(pipe_tvec_lr, params_tvec_lr, cv=5)\n",
    "grid_tvec_lr.fit(X_train, y_train)"
   ]
  },
  {
   "cell_type": "code",
   "execution_count": 28,
   "id": "6641f339-e8bd-4054-be15-a99ec3bd9a14",
   "metadata": {},
   "outputs": [],
   "source": [
    "#Best score\n",
    "best = grid_tvec_lr.best_score_\n",
    "#Train score\n",
    "train_s = grid_tvec_lr.score(X_train, y_train)\n",
    "#Test score and accuracy\n",
    "test_s = grid_tvec_lr.score(X_test, y_test)"
   ]
  },
  {
   "cell_type": "code",
   "execution_count": 29,
   "id": "f0b3e341-54f3-41c3-b918-5b5d9053060e",
   "metadata": {},
   "outputs": [
    {
     "name": "stdout",
     "output_type": "stream",
     "text": [
      "TVEC Logistic Regression had a best score of: 0.801526717557252\n",
      "TVEC Logistic Regression had a train score of: 0.9092693565976009\n",
      "TVEC Logistic Regression had a test score of: 0.8078795927401505\n"
     ]
    }
   ],
   "source": [
    "print(f'TVEC Logistic Regression had a best score of: {best}')\n",
    "print(f'TVEC Logistic Regression had a train score of: {train_s}')\n",
    "print(f'TVEC Logistic Regression had a test score of: {test_s}')"
   ]
  },
  {
   "cell_type": "code",
   "execution_count": 101,
   "id": "5c93422a-09e7-4f76-90b1-a9eb51abc09f",
   "metadata": {},
   "outputs": [
    {
     "data": {
      "text/plain": [
       "{'cvec__max_df': 0.9,\n",
       " 'cvec__max_features': 5000,\n",
       " 'cvec__min_df': 3,\n",
       " 'cvec__ngram_range': (1, 2),\n",
       " 'cvec__stop_words': {'a',\n",
       "  'about',\n",
       "  'above',\n",
       "  'after',\n",
       "  'again',\n",
       "  'against',\n",
       "  'ain',\n",
       "  'all',\n",
       "  'am',\n",
       "  'an',\n",
       "  'and',\n",
       "  'any',\n",
       "  'are',\n",
       "  'aren',\n",
       "  \"aren't\",\n",
       "  'as',\n",
       "  'at',\n",
       "  'be',\n",
       "  'because',\n",
       "  'been',\n",
       "  'before',\n",
       "  'being',\n",
       "  'below',\n",
       "  'between',\n",
       "  'both',\n",
       "  'but',\n",
       "  'by',\n",
       "  'can',\n",
       "  'couldn',\n",
       "  \"couldn't\",\n",
       "  'd',\n",
       "  'did',\n",
       "  'didn',\n",
       "  \"didn't\",\n",
       "  'do',\n",
       "  'does',\n",
       "  'doesn',\n",
       "  \"doesn't\",\n",
       "  'doing',\n",
       "  'don',\n",
       "  \"don't\",\n",
       "  'down',\n",
       "  'during',\n",
       "  'each',\n",
       "  'few',\n",
       "  'for',\n",
       "  'from',\n",
       "  'further',\n",
       "  'had',\n",
       "  'hadn',\n",
       "  \"hadn't\",\n",
       "  'has',\n",
       "  'hasn',\n",
       "  \"hasn't\",\n",
       "  'have',\n",
       "  'haven',\n",
       "  \"haven't\",\n",
       "  'having',\n",
       "  'he',\n",
       "  'her',\n",
       "  'here',\n",
       "  'hers',\n",
       "  'herself',\n",
       "  'him',\n",
       "  'himself',\n",
       "  'his',\n",
       "  'how',\n",
       "  'i',\n",
       "  'if',\n",
       "  'in',\n",
       "  'into',\n",
       "  'is',\n",
       "  'isn',\n",
       "  \"isn't\",\n",
       "  'it',\n",
       "  \"it's\",\n",
       "  'its',\n",
       "  'itself',\n",
       "  'just',\n",
       "  'll',\n",
       "  'm',\n",
       "  'ma',\n",
       "  'me',\n",
       "  'mightn',\n",
       "  \"mightn't\",\n",
       "  'more',\n",
       "  'most',\n",
       "  'mustn',\n",
       "  \"mustn't\",\n",
       "  'my',\n",
       "  'myself',\n",
       "  'needn',\n",
       "  \"needn't\",\n",
       "  'no',\n",
       "  'nor',\n",
       "  'not',\n",
       "  'now',\n",
       "  'o',\n",
       "  'of',\n",
       "  'off',\n",
       "  'on',\n",
       "  'once',\n",
       "  'only',\n",
       "  'or',\n",
       "  'other',\n",
       "  'our',\n",
       "  'ours',\n",
       "  'ourselves',\n",
       "  'out',\n",
       "  'over',\n",
       "  'own',\n",
       "  're',\n",
       "  's',\n",
       "  'same',\n",
       "  'shan',\n",
       "  \"shan't\",\n",
       "  'she',\n",
       "  \"she's\",\n",
       "  'should',\n",
       "  \"should've\",\n",
       "  'shouldn',\n",
       "  \"shouldn't\",\n",
       "  'so',\n",
       "  'some',\n",
       "  'such',\n",
       "  't',\n",
       "  'than',\n",
       "  'that',\n",
       "  \"that'll\",\n",
       "  'the',\n",
       "  'their',\n",
       "  'theirs',\n",
       "  'them',\n",
       "  'themselves',\n",
       "  'then',\n",
       "  'there',\n",
       "  'these',\n",
       "  'they',\n",
       "  'this',\n",
       "  'those',\n",
       "  'through',\n",
       "  'to',\n",
       "  'too',\n",
       "  'under',\n",
       "  'until',\n",
       "  'up',\n",
       "  've',\n",
       "  'very',\n",
       "  'was',\n",
       "  'wasn',\n",
       "  \"wasn't\",\n",
       "  'we',\n",
       "  'were',\n",
       "  'weren',\n",
       "  \"weren't\",\n",
       "  'what',\n",
       "  'when',\n",
       "  'where',\n",
       "  'which',\n",
       "  'while',\n",
       "  'who',\n",
       "  'whom',\n",
       "  'why',\n",
       "  'will',\n",
       "  'with',\n",
       "  'won',\n",
       "  \"won't\",\n",
       "  'wouldn',\n",
       "  \"wouldn't\",\n",
       "  'y',\n",
       "  'you',\n",
       "  \"you'd\",\n",
       "  \"you'll\",\n",
       "  \"you're\",\n",
       "  \"you've\",\n",
       "  'your',\n",
       "  'yours',\n",
       "  'yourself',\n",
       "  'yourselves'}}"
      ]
     },
     "execution_count": 101,
     "metadata": {},
     "output_type": "execute_result"
    }
   ],
   "source": [
    "grid_tvec_lr.best_params_"
   ]
  },
  {
   "cell_type": "code",
   "execution_count": 58,
   "id": "8e8e5141-2e83-46ef-9b48-53ce4a7149af",
   "metadata": {},
   "outputs": [],
   "source": [
    "#Prediction\n",
    "preds_tvec_lr = grid_tvec_lr.predict(X_test)\n",
    "#Values for confusion matrix\n",
    "tn, fp, fn, tp = confusion_matrix(y_test, preds_tvec_lr).ravel()"
   ]
  },
  {
   "cell_type": "code",
   "execution_count": 59,
   "id": "7a8615b7-9778-4d02-a002-8c2a8a82cbce",
   "metadata": {},
   "outputs": [
    {
     "data": {
      "image/png": "[encoded data removed]",
      "text/plain": [
       "<Figure size 640x480 with 2 Axes>"
      ]
     },
     "metadata": {},
     "output_type": "display_data"
    }
   ],
   "source": [
    "ConfusionMatrixDisplay.from_estimator(grid_tvec_lr, X_test, y_test, cmap='Blues', values_format='d');"
   ]
  },
  {
   "cell_type": "code",
   "execution_count": 60,
   "id": "4110b721-72c1-4e4e-bcc2-559697fdc6f1",
   "metadata": {},
   "outputs": [],
   "source": [
    "#Sensitivity\n",
    "sensitivity = tp / (tp+fn)\n",
    "#Specificity\n",
    "specificity  = tn/(tn+fp)\n",
    "#F1 Score\n",
    "f1 = f1_score(y_test, preds_tvec_lr)"
   ]
  },
  {
   "cell_type": "code",
   "execution_count": 61,
   "id": "a386fd06-b517-4ef7-8040-ae49eb9a5d2e",
   "metadata": {},
   "outputs": [
    {
     "name": "stdout",
     "output_type": "stream",
     "text": [
      "TVEC Logistic Regression had a sensitivity of: 0.7821080602302923\n",
      "TVEC Logistic Regression had a specificty of: 0.8336283185840708\n",
      "TVEC Logistic Regression had a f1 score of: 0.8027272727272727\n"
     ]
    }
   ],
   "source": [
    "print(f'TVEC Logistic Regression had a sensitivity of: {sensitivity}')\n",
    "print(f'TVEC Logistic Regression had a specificty of: {specificity}')\n",
    "print(f'TVEC Logistic Regression had a f1 score of: {f1}')"
   ]
  },
  {
   "cell_type": "markdown",
   "id": "791fd03a-e4a1-4191-9362-98b9da3f55ff",
   "metadata": {},
   "source": [
    "When we do the same logistic regression but with a TFIDF we see a slight improvement as expected all around. Again our model wants more and more features but overall an okay train score and okay test score\n",
    "\n",
    "---"
   ]
  },
  {
   "cell_type": "markdown",
   "id": "ede379ef-1f93-480d-a4f9-c58f91527ad9",
   "metadata": {},
   "source": [
    "### Bernouli Regression CVEC"
   ]
  },
  {
   "cell_type": "code",
   "execution_count": 43,
   "id": "711bd54c-e162-49c1-a35d-6cd3b5ab2238",
   "metadata": {},
   "outputs": [],
   "source": [
    "pipe_cvec_bnb = Pipeline([\n",
    "    ('cvec', CountVectorizer()),\n",
    "    ('bnb', BernoulliNB())\n",
    "])"
   ]
  },
  {
   "cell_type": "code",
   "execution_count": 47,
   "id": "fa97978d-ab5d-4592-8680-015870ec85ec",
   "metadata": {},
   "outputs": [],
   "source": [
    "params_cvec_bnb = {\n",
    "    'cvec__max_features': [1000, 5000],\n",
    "    'cvec__min_df': [3, 5],\n",
    "    'cvec__max_df': [0.9, 0.95],\n",
    "    'cvec__ngram_range': [(1, 1), (1, 2)],\n",
    "    'cvec__stop_words': [None, 'english', nltk_stop]\n",
    "}"
   ]
  },
  {
   "cell_type": "code",
   "execution_count": 48,
   "id": "b38d3ba4-0489-4fd7-baf4-c2b49936dbca",
   "metadata": {},
   "outputs": [
    {
     "data": {
      "text/plain": [
       "GridSearchCV(cv=5,\n",
       "             estimator=Pipeline(steps=[('cvec', CountVectorizer()),\n",
       "                                       ('bnb', BernoulliNB())]),\n",
       "             param_grid={'cvec__max_df': [0.9, 0.95],\n",
       "                         'cvec__max_features': [1000, 5000],\n",
       "                         'cvec__min_df': [3, 5],\n",
       "                         'cvec__ngram_range': [(1, 1), (1, 2)],\n",
       "                         'cvec__stop_words': [None, 'english',\n",
       "                                              ['i', 'me', 'my', 'myself', 'we',\n",
       "                                               'our', 'ours', 'ourselves',\n",
       "                                               'you', \"you're\", \"you've\",\n",
       "                                               \"you'll\", \"you'd\", 'your',\n",
       "                                               'yours', 'yourself',\n",
       "                                               'yourselves', 'he', 'him', 'his',\n",
       "                                               'himself', 'she', \"she's\", 'her',\n",
       "                                               'hers', 'herself', 'it', \"it's\",\n",
       "                                               'its', 'itself', ...]]})"
      ]
     },
     "execution_count": 48,
     "metadata": {},
     "output_type": "execute_result"
    }
   ],
   "source": [
    "grid_cvec_bnb = GridSearchCV(pipe_cvec_bnb, params_cvec_bnb, cv=5)\n",
    "grid_cvec_bnb.fit(X_train, y_train)"
   ]
  },
  {
   "cell_type": "code",
   "execution_count": 49,
   "id": "dd6fbded-86c3-4189-9318-f6161597511b",
   "metadata": {},
   "outputs": [],
   "source": [
    "#Best score\n",
    "best = grid_cvec_bnb.best_score_\n",
    "#Train score\n",
    "train_s = grid_cvec_bnb.score(X_train, y_train)\n",
    "#Test score and accuracy\n",
    "test_s = grid_cvec_bnb.score(X_test, y_test)"
   ]
  },
  {
   "cell_type": "code",
   "execution_count": 62,
   "id": "0e9d820d-067e-425e-aa85-c9f8927c3347",
   "metadata": {},
   "outputs": [
    {
     "name": "stdout",
     "output_type": "stream",
     "text": [
      "CVEC Bernoulli Regression had a best score of: 0.7627044711014177\n",
      "CVEC Bernoulli Regression had a train score of: 0.7736095965103599\n",
      "CVEC Bernoulli Regression had a test score of: 0.7583001328021248\n"
     ]
    }
   ],
   "source": [
    "print(f'CVEC Bernoulli Regression had a best score of: {best}')\n",
    "print(f'CVEC Bernoulli Regression had a train score of: {train_s}')\n",
    "print(f'CVEC Bernoulli Regression had a test score of: {test_s}')"
   ]
  },
  {
   "cell_type": "code",
   "execution_count": 102,
   "id": "38d3624c-5505-4103-9602-d877f60e09d6",
   "metadata": {},
   "outputs": [
    {
     "data": {
      "text/plain": [
       "{'cvec__max_df': 0.9,\n",
       " 'cvec__max_features': 5000,\n",
       " 'cvec__min_df': 5,\n",
       " 'cvec__ngram_range': (1, 1),\n",
       " 'cvec__stop_words': None}"
      ]
     },
     "execution_count": 102,
     "metadata": {},
     "output_type": "execute_result"
    }
   ],
   "source": [
    "grid_cvec_bnb.best_params_"
   ]
  },
  {
   "cell_type": "code",
   "execution_count": 63,
   "id": "2cf659dc-7966-4031-b449-99c0ea21463a",
   "metadata": {},
   "outputs": [],
   "source": [
    "#Prediction\n",
    "preds_cvec_bnb = grid_cvec_bnb.predict(X_test)\n",
    "#Values for confusion matrix\n",
    "tn, fp, fn, tp = confusion_matrix(y_test, preds_cvec_bnb).ravel()"
   ]
  },
  {
   "cell_type": "code",
   "execution_count": 68,
   "id": "b1e01489-013c-4400-a031-f055c4610c54",
   "metadata": {},
   "outputs": [
    {
     "data": {
      "image/png": "[encoded data removed]",
      "text/plain": [
       "<Figure size 640x480 with 2 Axes>"
      ]
     },
     "metadata": {},
     "output_type": "display_data"
    }
   ],
   "source": [
    "ConfusionMatrixDisplay.from_estimator(grid_cvec_bnb, X_test, y_test, cmap='Blues', values_format='d');"
   ]
  },
  {
   "cell_type": "code",
   "execution_count": 69,
   "id": "13f74a30-4d7e-4ea5-8c5d-8e082d7692c0",
   "metadata": {},
   "outputs": [],
   "source": [
    "#Sensitivity\n",
    "sensitivity = tp / (tp+fn)\n",
    "#Specificity\n",
    "specificity  = tn/(tn+fp)\n",
    "#F1 Score\n",
    "f1 = f1_score(y_test, preds_cvec_bnb)"
   ]
  },
  {
   "cell_type": "code",
   "execution_count": 76,
   "id": "854a34a5-54fa-46c1-a1ef-e0b34069d2a3",
   "metadata": {},
   "outputs": [
    {
     "name": "stdout",
     "output_type": "stream",
     "text": [
      "CVEC Bernoulli Regression had a sensitivity of: 0.5243578387953941\n",
      "CVEC Bernoulli Regression had a specificty of: 0.9920353982300885\n",
      "CVEC Bernoulli Regression had a f1 score of: 0.6843930635838149\n"
     ]
    }
   ],
   "source": [
    "print(f'CVEC Bernoulli Regression had a sensitivity of: {sensitivity}')\n",
    "print(f'CVEC Bernoulli Regression had a specificty of: {specificity}')\n",
    "print(f'CVEC Bernoulli Regression had a f1 score of: {f1}')"
   ]
  },
  {
   "cell_type": "markdown",
   "id": "0ba0acb5-0f33-4159-a2fb-e29c073c0633",
   "metadata": {},
   "source": [
    "When it comes to bernoulli regression the model does poor on both train and test and more importantly it doesnt absolutely terrible on sensitivity. This is a model we can completely ignore\n",
    "\n",
    "---"
   ]
  },
  {
   "cell_type": "markdown",
   "id": "106056f8-9788-48f4-aef6-6f0cb9992721",
   "metadata": {},
   "source": [
    "### Bernouli Regression TVEC"
   ]
  },
  {
   "cell_type": "code",
   "execution_count": 55,
   "id": "56929bbf-41b6-4efe-ab2e-6dcce5ea9f99",
   "metadata": {},
   "outputs": [],
   "source": [
    "pipe_tvec_bnb = Pipeline([\n",
    "    ('tvec', TfidfVectorizer()),\n",
    "    ('bnb', BernoulliNB())\n",
    "])"
   ]
  },
  {
   "cell_type": "code",
   "execution_count": 56,
   "id": "aecaadda-a82e-4678-9462-854241913f52",
   "metadata": {},
   "outputs": [],
   "source": [
    "params_tvec_bnb = {\n",
    "    'tvec__max_features': [1000, 5000],\n",
    "    'tvec__min_df': [3, 5],\n",
    "    'tvec__max_df': [0.9, 0.95],\n",
    "    'tvec__ngram_range': [(1, 1), (1, 2)],\n",
    "    'tvec__stop_words': [None, 'english', nltk_stop]\n",
    "}"
   ]
  },
  {
   "cell_type": "code",
   "execution_count": 57,
   "id": "be80d952-105a-41a3-bf4b-986da4d07c94",
   "metadata": {},
   "outputs": [
    {
     "data": {
      "text/plain": [
       "GridSearchCV(cv=5,\n",
       "             estimator=Pipeline(steps=[('tvec', TfidfVectorizer()),\n",
       "                                       ('bnb', BernoulliNB())]),\n",
       "             param_grid={'tvec__max_df': [0.9, 0.95],\n",
       "                         'tvec__max_features': [1000, 5000],\n",
       "                         'tvec__min_df': [3, 5],\n",
       "                         'tvec__ngram_range': [(1, 1), (1, 2)],\n",
       "                         'tvec__stop_words': [None, 'english',\n",
       "                                              ['i', 'me', 'my', 'myself', 'we',\n",
       "                                               'our', 'ours', 'ourselves',\n",
       "                                               'you', \"you're\", \"you've\",\n",
       "                                               \"you'll\", \"you'd\", 'your',\n",
       "                                               'yours', 'yourself',\n",
       "                                               'yourselves', 'he', 'him', 'his',\n",
       "                                               'himself', 'she', \"she's\", 'her',\n",
       "                                               'hers', 'herself', 'it', \"it's\",\n",
       "                                               'its', 'itself', ...]]})"
      ]
     },
     "execution_count": 57,
     "metadata": {},
     "output_type": "execute_result"
    }
   ],
   "source": [
    "grid_tvec_bnb = GridSearchCV(pipe_tvec_bnb, params_tvec_bnb, cv=5)\n",
    "grid_tvec_bnb.fit(X_train, y_train)"
   ]
  },
  {
   "cell_type": "code",
   "execution_count": 71,
   "id": "8f968c80-f854-4ad2-abcb-cb2f6be8c8b6",
   "metadata": {},
   "outputs": [],
   "source": [
    "#Best score\n",
    "best = grid_tvec_bnb.best_score_\n",
    "#Train score\n",
    "train_s = grid_tvec_bnb.score(X_train, y_train)\n",
    "#Test score and accuracy\n",
    "test_s = grid_tvec_bnb.score(X_test, y_test)"
   ]
  },
  {
   "cell_type": "code",
   "execution_count": 72,
   "id": "a382924c-1120-4f79-ae49-93d192d7681b",
   "metadata": {},
   "outputs": [
    {
     "name": "stdout",
     "output_type": "stream",
     "text": [
      "TVEC Bernoulli Regression had a best score of: 0.7627044711014177\n",
      "TVEC Bernoulli Regression had a train score of: 0.7736095965103599\n",
      "TVEC Bernoulli Regression had a test score of: 0.7583001328021248\n"
     ]
    }
   ],
   "source": [
    "print(f'TVEC Bernoulli Regression had a best score of: {best}')\n",
    "print(f'TVEC Bernoulli Regression had a train score of: {train_s}')\n",
    "print(f'TVEC Bernoulli Regression had a test score of: {test_s}')"
   ]
  },
  {
   "cell_type": "code",
   "execution_count": 103,
   "id": "daeac727-194a-4162-9f0d-6a43f411b3c2",
   "metadata": {},
   "outputs": [
    {
     "data": {
      "text/plain": [
       "{'tvec__max_df': 0.9,\n",
       " 'tvec__max_features': 5000,\n",
       " 'tvec__min_df': 5,\n",
       " 'tvec__ngram_range': (1, 1),\n",
       " 'tvec__stop_words': None}"
      ]
     },
     "execution_count": 103,
     "metadata": {},
     "output_type": "execute_result"
    }
   ],
   "source": [
    "grid_tvec_bnb.best_params_"
   ]
  },
  {
   "cell_type": "code",
   "execution_count": 73,
   "id": "0984f584-e606-4fba-afab-40952c50be9a",
   "metadata": {},
   "outputs": [],
   "source": [
    "#Prediction\n",
    "preds_tvec_bnb = grid_tvec_bnb.predict(X_test)\n",
    "#Values for confusion matrix\n",
    "tn, fp, fn, tp = confusion_matrix(y_test, preds_tvec_bnb).ravel()"
   ]
  },
  {
   "cell_type": "code",
   "execution_count": 77,
   "id": "9fd896e0-73ea-4626-9384-6cc1f402226d",
   "metadata": {},
   "outputs": [
    {
     "data": {
      "image/png": "[encoded data removed]",
      "text/plain": [
       "<Figure size 640x480 with 2 Axes>"
      ]
     },
     "metadata": {},
     "output_type": "display_data"
    }
   ],
   "source": [
    "ConfusionMatrixDisplay.from_estimator(grid_tvec_bnb, X_test, y_test, cmap='Blues', values_format='d');"
   ]
  },
  {
   "cell_type": "code",
   "execution_count": 78,
   "id": "a1b97c60-e74f-4214-847e-d04e3e60e5e4",
   "metadata": {},
   "outputs": [],
   "source": [
    "#Sensitivity\n",
    "sensitivity = tp / (tp+fn)\n",
    "#Specificity\n",
    "specificity  = tn/(tn+fp)\n",
    "#F1 Score\n",
    "f1 = f1_score(y_test, preds_tvec_bnb)"
   ]
  },
  {
   "cell_type": "code",
   "execution_count": 79,
   "id": "f624c661-5224-4656-908e-d1fab8efa56e",
   "metadata": {},
   "outputs": [
    {
     "name": "stdout",
     "output_type": "stream",
     "text": [
      "TVEC Bernoulli had a sensitivity of: 0.5243578387953941\n",
      "TVEC Bernoulli Regression had a specificty of: 0.9920353982300885\n",
      "TVEC Bernoulli Regression had a f1 score of: 0.6843930635838149\n"
     ]
    }
   ],
   "source": [
    "print(f'TVEC Bernoulli had a sensitivity of: {sensitivity}')\n",
    "print(f'TVEC Bernoulli Regression had a specificty of: {specificity}')\n",
    "print(f'TVEC Bernoulli Regression had a f1 score of: {f1}')"
   ]
  },
  {
   "cell_type": "markdown",
   "id": "263ab32a-352e-46e8-95eb-b76f5122d0bd",
   "metadata": {},
   "source": [
    "Wanted to see if we would get much improvement with TFIDF on Bernoulli but its just as bad. However it did insanely well on specificity but the tradeoff on sensitivity is not worth it"
   ]
  },
  {
   "cell_type": "markdown",
   "id": "12325063-b4e8-4b09-8edc-9b1a670bac9a",
   "metadata": {},
   "source": [
    "### Multinomial Regression CVEC"
   ]
  },
  {
   "cell_type": "code",
   "execution_count": 80,
   "id": "f927dd73-e0e7-44eb-a205-527939ccf3dd",
   "metadata": {},
   "outputs": [],
   "source": [
    "pipe_cvec_mnb = Pipeline([\n",
    "    ('cvec', CountVectorizer()),\n",
    "    ('mnb', MultinomialNB())\n",
    "])"
   ]
  },
  {
   "cell_type": "code",
   "execution_count": 81,
   "id": "19023fbd-65a6-48bf-b31b-197fcdc921d1",
   "metadata": {},
   "outputs": [],
   "source": [
    "params_cvec_mnb = {\n",
    "    'cvec__max_features': [1000, 5000],\n",
    "    'cvec__min_df': [3, 5],\n",
    "    'cvec__max_df': [0.9, 0.95],\n",
    "    'cvec__ngram_range': [(1, 1), (1, 2)],\n",
    "    'cvec__stop_words': [None, 'english', nltk_stop]\n",
    "}"
   ]
  },
  {
   "cell_type": "code",
   "execution_count": 82,
   "id": "fcd75241-a36d-478e-9720-8a5b75ef80a6",
   "metadata": {},
   "outputs": [
    {
     "data": {
      "text/plain": [
       "GridSearchCV(cv=5,\n",
       "             estimator=Pipeline(steps=[('cvec', CountVectorizer()),\n",
       "                                       ('mnb', MultinomialNB())]),\n",
       "             param_grid={'cvec__max_df': [0.9, 0.95],\n",
       "                         'cvec__max_features': [1000, 5000],\n",
       "                         'cvec__min_df': [3, 5],\n",
       "                         'cvec__ngram_range': [(1, 1), (1, 2)],\n",
       "                         'cvec__stop_words': [None, 'english',\n",
       "                                              ['i', 'me', 'my', 'myself', 'we',\n",
       "                                               'our', 'ours', 'ourselves',\n",
       "                                               'you', \"you're\", \"you've\",\n",
       "                                               \"you'll\", \"you'd\", 'your',\n",
       "                                               'yours', 'yourself',\n",
       "                                               'yourselves', 'he', 'him', 'his',\n",
       "                                               'himself', 'she', \"she's\", 'her',\n",
       "                                               'hers', 'herself', 'it', \"it's\",\n",
       "                                               'its', 'itself', ...]]})"
      ]
     },
     "execution_count": 82,
     "metadata": {},
     "output_type": "execute_result"
    }
   ],
   "source": [
    "grid_cvec_mnb = GridSearchCV(pipe_cvec_mnb, params_cvec_mnb, cv=5)\n",
    "grid_cvec_mnb.fit(X_train, y_train)"
   ]
  },
  {
   "cell_type": "code",
   "execution_count": 83,
   "id": "433739aa-79c3-4dea-b96f-7a60b24d6240",
   "metadata": {},
   "outputs": [],
   "source": [
    "#Best score\n",
    "best = grid_cvec_mnb.best_score_\n",
    "#Train score\n",
    "train_s = grid_cvec_mnb.score(X_train, y_train)\n",
    "#Test score and accuracy\n",
    "test_s = grid_cvec_mnb.score(X_test, y_test)"
   ]
  },
  {
   "cell_type": "code",
   "execution_count": 104,
   "id": "092715ec-ad6c-42f9-9e57-e09767171f88",
   "metadata": {},
   "outputs": [
    {
     "data": {
      "text/plain": [
       "{'cvec__max_df': 0.9,\n",
       " 'cvec__max_features': 5000,\n",
       " 'cvec__min_df': 3,\n",
       " 'cvec__ngram_range': (1, 1),\n",
       " 'cvec__stop_words': None}"
      ]
     },
     "execution_count": 104,
     "metadata": {},
     "output_type": "execute_result"
    }
   ],
   "source": [
    "grid_cvec_mnb.best_params_"
   ]
  },
  {
   "cell_type": "code",
   "execution_count": 84,
   "id": "2935466d-89ea-40ff-b7c3-d76dc3bcbc47",
   "metadata": {},
   "outputs": [
    {
     "name": "stdout",
     "output_type": "stream",
     "text": [
      "CVEC Multinomial Regression had a best score of: 0.759432933478735\n",
      "CVEC Multinomial Regression had a train score of: 0.8239912758996728\n",
      "CVEC Multinomial Regression had a test score of: 0.7618415227976981\n"
     ]
    }
   ],
   "source": [
    "print(f'CVEC Multinomial Regression had a best score of: {best}')\n",
    "print(f'CVEC Multinomial Regression had a train score of: {train_s}')\n",
    "print(f'CVEC Multinomial Regression had a test score of: {test_s}')"
   ]
  },
  {
   "cell_type": "code",
   "execution_count": 85,
   "id": "e79d7bb7-1dfc-4869-a30f-7c86c76b7e71",
   "metadata": {},
   "outputs": [],
   "source": [
    "#Prediction\n",
    "preds_cvec_mnb = grid_cvec_mnb.predict(X_test)\n",
    "#Values for confusion matrix\n",
    "tn, fp, fn, tp = confusion_matrix(y_test, preds_cvec_mnb).ravel()"
   ]
  },
  {
   "cell_type": "code",
   "execution_count": 86,
   "id": "fd3f16a9-241c-4c68-9c59-04f2ea062df0",
   "metadata": {},
   "outputs": [
    {
     "data": {
      "image/png": "[encoded data removed]",
      "text/plain": [
       "<Figure size 640x480 with 2 Axes>"
      ]
     },
     "metadata": {},
     "output_type": "display_data"
    }
   ],
   "source": [
    "ConfusionMatrixDisplay.from_estimator(grid_cvec_mnb, X_test, y_test, cmap='Blues', values_format='d');"
   ]
  },
  {
   "cell_type": "code",
   "execution_count": 87,
   "id": "d4550407-84ec-4cba-9b4b-464e87225ef8",
   "metadata": {},
   "outputs": [],
   "source": [
    "#Sensitivity\n",
    "sensitivity = tp / (tp+fn)\n",
    "#Specificity\n",
    "specificity  = tn/(tn+fp)\n",
    "#F1 Score\n",
    "f1 = f1_score(y_test, preds_cvec_mnb)"
   ]
  },
  {
   "cell_type": "code",
   "execution_count": 88,
   "id": "d7f79e36-88f7-454d-9cac-67796a862228",
   "metadata": {},
   "outputs": [
    {
     "name": "stdout",
     "output_type": "stream",
     "text": [
      "CVEC Multinomial Regression had a sensitivity of: 0.6935341009743136\n",
      "CVEC Multinomial Regression had a specificty of: 0.8300884955752212\n",
      "CVEC Multinomial Regression had a f1 score of: 0.744296577946768\n"
     ]
    }
   ],
   "source": [
    "print(f'CVEC Multinomial Regression had a sensitivity of: {sensitivity}')\n",
    "print(f'CVEC Multinomial Regression had a specificty of: {specificity}')\n",
    "print(f'CVEC Multinomial Regression had a f1 score of: {f1}')"
   ]
  },
  {
   "cell_type": "markdown",
   "id": "adb8e17e-a0bf-4a06-849a-89277b6c2a07",
   "metadata": {},
   "source": [
    "Multinomial is not performing the best here as well on our training data as our test data almost beats it out. So as expected the sensitivity and the specificity are going to be low. I think we wont see much change once we use TFID here as well.\n",
    "\n",
    "---"
   ]
  },
  {
   "cell_type": "markdown",
   "id": "60871270-8ecc-4f84-91e5-c61f1972ac3a",
   "metadata": {},
   "source": [
    "### Multinomial Regression TVEC"
   ]
  },
  {
   "cell_type": "code",
   "execution_count": 89,
   "id": "c07160f9-4ce9-483d-a71a-4770e1df27e9",
   "metadata": {},
   "outputs": [],
   "source": [
    "pipe_tvec_mnb = Pipeline([\n",
    "    ('tvec', TfidfVectorizer()),\n",
    "    ('mnb', MultinomialNB())\n",
    "])"
   ]
  },
  {
   "cell_type": "code",
   "execution_count": 90,
   "id": "d855e5ae-b284-4398-b7d6-a44319e5f0b3",
   "metadata": {},
   "outputs": [],
   "source": [
    "params_tvec_mnb = {\n",
    "    'tvec__max_features': [1000, 5000],\n",
    "    'tvec__min_df': [3, 5],\n",
    "    'tvec__max_df': [0.9, 0.95],\n",
    "    'tvec__ngram_range': [(1, 1), (1, 2)],\n",
    "    'tvec__stop_words': [None, 'english', nltk_stop]\n",
    "}"
   ]
  },
  {
   "cell_type": "code",
   "execution_count": 91,
   "id": "c9aaca23-b122-4289-bff8-d20dd0fb63d8",
   "metadata": {},
   "outputs": [
    {
     "data": {
      "text/plain": [
       "GridSearchCV(cv=5,\n",
       "             estimator=Pipeline(steps=[('tvec', TfidfVectorizer()),\n",
       "                                       ('mnb', MultinomialNB())]),\n",
       "             param_grid={'tvec__max_df': [0.9, 0.95],\n",
       "                         'tvec__max_features': [1000, 5000],\n",
       "                         'tvec__min_df': [3, 5],\n",
       "                         'tvec__ngram_range': [(1, 1), (1, 2)],\n",
       "                         'tvec__stop_words': [None, 'english',\n",
       "                                              ['i', 'me', 'my', 'myself', 'we',\n",
       "                                               'our', 'ours', 'ourselves',\n",
       "                                               'you', \"you're\", \"you've\",\n",
       "                                               \"you'll\", \"you'd\", 'your',\n",
       "                                               'yours', 'yourself',\n",
       "                                               'yourselves', 'he', 'him', 'his',\n",
       "                                               'himself', 'she', \"she's\", 'her',\n",
       "                                               'hers', 'herself', 'it', \"it's\",\n",
       "                                               'its', 'itself', ...]]})"
      ]
     },
     "execution_count": 91,
     "metadata": {},
     "output_type": "execute_result"
    }
   ],
   "source": [
    "grid_tvec_mnb = GridSearchCV(pipe_tvec_mnb, params_tvec_mnb, cv=5)\n",
    "grid_tvec_mnb.fit(X_train, y_train)"
   ]
  },
  {
   "cell_type": "code",
   "execution_count": 92,
   "id": "c50ec6a5-0d4c-4a32-856e-59400807105f",
   "metadata": {},
   "outputs": [],
   "source": [
    "#Best score\n",
    "best = grid_tvec_mnb.best_score_\n",
    "#Train score\n",
    "train_s = grid_tvec_mnb.score(X_train, y_train)\n",
    "#Test score and accuracy\n",
    "test_s = grid_tvec_mnb.score(X_test, y_test)"
   ]
  },
  {
   "cell_type": "code",
   "execution_count": 93,
   "id": "3b13b281-7dc7-47bc-ab86-7977489912df",
   "metadata": {},
   "outputs": [
    {
     "name": "stdout",
     "output_type": "stream",
     "text": [
      "TVEC Multinomial Regression had a best score of: 0.7766630316248636\n",
      "TVEC Multinomial Regression had a train score of: 0.8344601962922573\n",
      "TVEC Multinomial Regression had a test score of: 0.7755644090305445\n"
     ]
    }
   ],
   "source": [
    "print(f'TVEC Multinomial Regression had a best score of: {best}')\n",
    "print(f'TVEC Multinomial Regression had a train score of: {train_s}')\n",
    "print(f'TVEC Multinomial Regression had a test score of: {test_s}')"
   ]
  },
  {
   "cell_type": "code",
   "execution_count": 105,
   "id": "c834da9b-63e6-44e3-8d09-a82183ac742f",
   "metadata": {},
   "outputs": [
    {
     "data": {
      "text/plain": [
       "{'tvec__max_df': 0.9,\n",
       " 'tvec__max_features': 5000,\n",
       " 'tvec__min_df': 5,\n",
       " 'tvec__ngram_range': (1, 2),\n",
       " 'tvec__stop_words': None}"
      ]
     },
     "execution_count": 105,
     "metadata": {},
     "output_type": "execute_result"
    }
   ],
   "source": [
    "grid_tvec_mnb.best_params_"
   ]
  },
  {
   "cell_type": "code",
   "execution_count": 94,
   "id": "974e8314-6013-488f-85b0-4d71cc76c326",
   "metadata": {},
   "outputs": [],
   "source": [
    "#Prediction\n",
    "preds_tvec_mnb = grid_tvec_mnb.predict(X_test)\n",
    "#Values for confusion matrix\n",
    "tn, fp, fn, tp = confusion_matrix(y_test, preds_tvec_mnb).ravel()"
   ]
  },
  {
   "cell_type": "code",
   "execution_count": 95,
   "id": "173d5a7f-21d2-43bc-8a2d-e15940505cd8",
   "metadata": {},
   "outputs": [
    {
     "data": {
      "image/png": "[encoded data removed]",
      "text/plain": [
       "<Figure size 640x480 with 2 Axes>"
      ]
     },
     "metadata": {},
     "output_type": "display_data"
    }
   ],
   "source": [
    "ConfusionMatrixDisplay.from_estimator(grid_tvec_mnb, X_test, y_test, cmap='Blues', values_format='d');"
   ]
  },
  {
   "cell_type": "code",
   "execution_count": 96,
   "id": "a7a413c1-54aa-4401-be80-8c28e4ca7291",
   "metadata": {},
   "outputs": [],
   "source": [
    "#Sensitivity\n",
    "sensitivity = tp / (tp+fn)\n",
    "#Specificity\n",
    "specificity  = tn/(tn+fp)\n",
    "#F1 Score\n",
    "f1 = f1_score(y_test, preds_tvec_mnb)"
   ]
  },
  {
   "cell_type": "code",
   "execution_count": 97,
   "id": "80b6b7e2-9e85-4819-8ec8-2963156ceff9",
   "metadata": {},
   "outputs": [
    {
     "name": "stdout",
     "output_type": "stream",
     "text": [
      "TVEC Multinomial Regression had a sensitivity of: 0.6829052258635961\n",
      "TVEC Multinomial Regression had a specificty of: 0.868141592920354\n",
      "TVEC Multinomial Regression had a f1 score of: 0.752562225475842\n"
     ]
    }
   ],
   "source": [
    "print(f'TVEC Multinomial Regression had a sensitivity of: {sensitivity}')\n",
    "print(f'TVEC Multinomial Regression had a specificty of: {specificity}')\n",
    "print(f'TVEC Multinomial Regression had a f1 score of: {f1}')"
   ]
  },
  {
   "cell_type": "markdown",
   "id": "2d0814e2-2d10-4097-aaa3-0dedddf445a0",
   "metadata": {},
   "source": [
    "As expected not a whole lot of change done on the TFID version of of multinomial. I think we are done Naive Bayes all together.\n",
    "\n",
    "---"
   ]
  },
  {
   "cell_type": "markdown",
   "id": "0afab949-0c05-48ab-ad8f-aa868e4233d1",
   "metadata": {},
   "source": [
    "In this next section I am going going to be using bagging classifier with a few base estimator but definitely with Logistic Regression as its our best thus far. I am going to do the same as above though. Fit and score the models, create confusion matrix and provide analysis\n",
    "\n",
    "---"
   ]
  },
  {
   "cell_type": "markdown",
   "id": "1824feee-81ce-4d9c-bc67-eea408583427",
   "metadata": {},
   "source": [
    "### Bagging Classifier with DecisionTree with TVEC"
   ]
  },
  {
   "cell_type": "code",
   "execution_count": 275,
   "id": "08184c3e-93b1-46b4-8ea3-80b068f80f45",
   "metadata": {},
   "outputs": [],
   "source": [
    "tvec = TfidfVectorizer(stop_words='english')\n",
    "\n",
    "X_train_tvec = tvec.fit_transform(X_train)\n",
    "X_test_tvec = tvec.transform(X_test)"
   ]
  },
  {
   "cell_type": "code",
   "execution_count": 276,
   "id": "834a92af-5e77-49aa-9301-3420baa3985e",
   "metadata": {},
   "outputs": [],
   "source": [
    "params_bag_dtc = {\n",
    "    'n_estimators' : [50, 100,150],\n",
    "    'base_estimator__max_depth' : [3, 5]\n",
    "}"
   ]
  },
  {
   "cell_type": "code",
   "execution_count": 277,
   "id": "bf1b7b30-7b94-4fcf-b54f-4fd9e7a0653c",
   "metadata": {},
   "outputs": [],
   "source": [
    "grid_bag_dtc = GridSearchCV(estimator=BaggingClassifier(base_estimator=DecisionTreeClassifier()),\n",
    "                   param_grid=params_bag_dtc,\n",
    "                   cv = 5, verbose=1)"
   ]
  },
  {
   "cell_type": "code",
   "execution_count": 278,
   "id": "378671cd-4d71-45c6-8d9f-a5d166448717",
   "metadata": {},
   "outputs": [
    {
     "name": "stdout",
     "output_type": "stream",
     "text": [
      "Fitting 5 folds for each of 6 candidates, totalling 30 fits\n"
     ]
    },
    {
     "data": {
      "text/plain": [
       "GridSearchCV(cv=5,\n",
       "             estimator=BaggingClassifier(base_estimator=DecisionTreeClassifier()),\n",
       "             param_grid={'base_estimator__max_depth': [3, 5],\n",
       "                         'n_estimators': [50, 100, 150]},\n",
       "             verbose=1)"
      ]
     },
     "execution_count": 278,
     "metadata": {},
     "output_type": "execute_result"
    }
   ],
   "source": [
    "grid_bag_dtc.fit(X_train_tvec, y_train)"
   ]
  },
  {
   "cell_type": "code",
   "execution_count": 279,
   "id": "30bd282a-1505-429c-9f32-5b28456867de",
   "metadata": {},
   "outputs": [
    {
     "data": {
      "text/plain": [
       "{'base_estimator__max_depth': 5, 'n_estimators': 50}"
      ]
     },
     "execution_count": 279,
     "metadata": {},
     "output_type": "execute_result"
    }
   ],
   "source": [
    "grid_bag_dtc.best_params_"
   ]
  },
  {
   "cell_type": "code",
   "execution_count": 280,
   "id": "ce45563f-4ddb-4106-a21d-8ff2ca76f5ff",
   "metadata": {},
   "outputs": [
    {
     "name": "stdout",
     "output_type": "stream",
     "text": [
      "Bagging Classifier base of DTC had a train score of: 0.7271537622682661\n",
      "Bagging Classifier base of DTC had a test score of: 0.7118193891102258\n"
     ]
    }
   ],
   "source": [
    "best_bag_dtc = grid_bag_dtc.best_estimator_\n",
    "\n",
    "best_bag_dtc.fit(X_train_tvec, y_train)\n",
    "\n",
    "print(f'Bagging Classifier base of DTC had a train score of: {best_bag_dtc.score(X_train_tvec, y_train)}')\n",
    "print(f'Bagging Classifier base of DTC had a test score of: {best_bag_dtc.score(X_test_tvec, y_test)}')"
   ]
  },
  {
   "cell_type": "code",
   "execution_count": 281,
   "id": "fd94ce4c-f2b8-4654-929c-6bdb33218f23",
   "metadata": {},
   "outputs": [],
   "source": [
    "#Prediction\n",
    "preds_bag_dtc = grid_bag_dtc.predict(X_test_tvec)\n",
    "#Values for confusion matrix\n",
    "tn, fp, fn, tp = confusion_matrix(y_test, preds_bag_dtc).ravel()"
   ]
  },
  {
   "cell_type": "code",
   "execution_count": 282,
   "id": "2b7c6ab1-efc4-483f-8d2e-2baf55c0f721",
   "metadata": {},
   "outputs": [
    {
     "data": {
      "image/png": "[encoded data removed]",
      "text/plain": [
       "<Figure size 640x480 with 2 Axes>"
      ]
     },
     "metadata": {},
     "output_type": "display_data"
    }
   ],
   "source": [
    "ConfusionMatrixDisplay.from_estimator(grid_bag_dtc, X_test_tvec, y_test, cmap='Blues', values_format='d');"
   ]
  },
  {
   "cell_type": "code",
   "execution_count": 283,
   "id": "2b83a70c-f677-4490-a3d4-9a4d25ba07d0",
   "metadata": {},
   "outputs": [],
   "source": [
    "#Sensitivity\n",
    "sensitivity = tp / (tp+fn)\n",
    "#Specificity\n",
    "specificity  = tn/(tn+fp)\n",
    "#F1 Score\n",
    "f1 = f1_score(y_test, preds_bag_dtc)"
   ]
  },
  {
   "cell_type": "code",
   "execution_count": 284,
   "id": "f86f499b-4213-4687-a05f-8bc36d73c17b",
   "metadata": {},
   "outputs": [
    {
     "name": "stdout",
     "output_type": "stream",
     "text": [
      "Bagging with a base DTC had a sensitivity of: 0.48981399468556247\n",
      "Bagging with a base DTC had a specificty of: 0.9336283185840708\n",
      "Bagging with a base DTC had a f1 score of: 0.6294820717131474\n"
     ]
    }
   ],
   "source": [
    "print(f'Bagging with a base DTC had a sensitivity of: {sensitivity}')\n",
    "print(f'Bagging with a base DTC had a specificty of: {specificity}')\n",
    "print(f'Bagging with a base DTC had a f1 score of: {f1}')"
   ]
  },
  {
   "cell_type": "markdown",
   "id": "7fa8e5c2-2eea-4d39-aefb-5db9ea35a360",
   "metadata": {},
   "source": [
    "Moving forward I am only using TFIDF for sake of time and that it always does better than CVEC for all of the above models.\n",
    "\n",
    "On bagging classifiers I kind of expect this one to be the best specifically with logistic regression just because I am not sold that trees are the best use case here, the type of questions asked at each depth in my opinion doesnt seem to get us any closer to a classification than logistic regression would do.\n",
    "\n",
    "Interestingly enough the train and test data performs poorly and I beleive this is our worst sensitivity and f1 score thus far. So bad I dont think I want to use anymore trees moving forward so I will try bagging again with logistic Regression\n",
    "\n",
    "---"
   ]
  },
  {
   "cell_type": "markdown",
   "id": "67f3521b-5cba-468c-8bb9-0fef60dab024",
   "metadata": {},
   "source": [
    "### Bagging Classifier with Logistic Regression with TVEC"
   ]
  },
  {
   "cell_type": "code",
   "execution_count": 285,
   "id": "e393ae3a-73ac-4024-8d32-a9ac079e69e9",
   "metadata": {},
   "outputs": [],
   "source": [
    "params_bag_lr = {\n",
    "    'n_estimators' : [50]\n",
    "}"
   ]
  },
  {
   "cell_type": "code",
   "execution_count": 286,
   "id": "4f91424e-8274-4738-b6e4-162c148dde9f",
   "metadata": {},
   "outputs": [],
   "source": [
    "grid_bag_lr = GridSearchCV(estimator=BaggingClassifier(base_estimator=LogisticRegression()),\n",
    "                   param_grid=params_bag_lr,\n",
    "                   cv = 5, verbose=1)"
   ]
  },
  {
   "cell_type": "code",
   "execution_count": 287,
   "id": "93f570ea-c45d-4e5a-8283-ebeba72309e0",
   "metadata": {},
   "outputs": [
    {
     "name": "stdout",
     "output_type": "stream",
     "text": [
      "Fitting 5 folds for each of 1 candidates, totalling 5 fits\n"
     ]
    },
    {
     "data": {
      "text/plain": [
       "GridSearchCV(cv=5,\n",
       "             estimator=BaggingClassifier(base_estimator=LogisticRegression()),\n",
       "             param_grid={'n_estimators': [50]}, verbose=1)"
      ]
     },
     "execution_count": 287,
     "metadata": {},
     "output_type": "execute_result"
    }
   ],
   "source": [
    "grid_bag_lr.fit(X_train_tvec, y_train)"
   ]
  },
  {
   "cell_type": "code",
   "execution_count": 183,
   "id": "7d568911-5195-4b6c-842f-7ac0261d8654",
   "metadata": {},
   "outputs": [
    {
     "name": "stdout",
     "output_type": "stream",
     "text": [
      "Bagging Classifier base of LR had a train score of: 0.9637949836423119\n",
      "Bagging Classifier base of RL had a test score of: 0.7950420540061974\n"
     ]
    }
   ],
   "source": [
    "best_bag_lr = grid_bag_lr.best_estimator_\n",
    "\n",
    "best_bag_lr.fit(X_train_tvec, y_train)\n",
    "\n",
    "print(f'Bagging Classifier base of LR had a train score of: {best_bag_lr.score(X_train_tvec, y_train)}')\n",
    "print(f'Bagging Classifier base of RL had a test score of: {best_bag_lr.score(X_test_tvec, y_test)}')"
   ]
  },
  {
   "cell_type": "code",
   "execution_count": 288,
   "id": "9e1c565b-c3e0-4524-8c16-845b200c8f84",
   "metadata": {},
   "outputs": [],
   "source": [
    "#Prediction\n",
    "preds_bag_lr = grid_bag_lr.predict(X_test_tvec)\n",
    "#Values for confusion matrix\n",
    "tn, fp, fn, tp = confusion_matrix(y_test, preds_bag_lr).ravel()"
   ]
  },
  {
   "cell_type": "code",
   "execution_count": 289,
   "id": "1725978c-c30b-40fa-9124-565233b6bf5d",
   "metadata": {},
   "outputs": [
    {
     "data": {
      "image/png": "[encoded data removed]",
      "text/plain": [
       "<Figure size 640x480 with 2 Axes>"
      ]
     },
     "metadata": {},
     "output_type": "display_data"
    }
   ],
   "source": [
    "ConfusionMatrixDisplay.from_estimator(grid_bag_lr, X_test_cvec, y_test, cmap='Blues', values_format='d');"
   ]
  },
  {
   "cell_type": "code",
   "execution_count": 290,
   "id": "3e5eb831-bbc0-458e-81ab-d8c1da593983",
   "metadata": {},
   "outputs": [],
   "source": [
    "#Sensitivity\n",
    "sensitivity = tp / (tp+fn)\n",
    "#Specificity\n",
    "specificity  = tn/(tn+fp)\n",
    "#F1 Score\n",
    "f1 = f1_score(y_test, preds_bag_lr)"
   ]
  },
  {
   "cell_type": "code",
   "execution_count": 291,
   "id": "8a5f8c29-4ae1-42c3-ad70-b353629a21a4",
   "metadata": {},
   "outputs": [
    {
     "name": "stdout",
     "output_type": "stream",
     "text": [
      "Bagging with a base LR had a sensitivity of: 0.7440212577502214\n",
      "Bagging with a base LR had a specificty of: 0.8389380530973451\n",
      "Bagging with a base LR had a f1 score of: 0.7810320781032077\n"
     ]
    }
   ],
   "source": [
    "print(f'Bagging with a base LR had a sensitivity of: {sensitivity}')\n",
    "print(f'Bagging with a base LR had a specificty of: {specificity}')\n",
    "print(f'Bagging with a base LR had a f1 score of: {f1}')"
   ]
  },
  {
   "cell_type": "markdown",
   "id": "b395fa48-eb8f-4e47-b962-359a9ecd799b",
   "metadata": {},
   "source": [
    "Unfortunately here I had to reduce the parameters significantly because it was taking 10 minutes to fit the model at times. However giving the results the train score does decently well and so does the test score in respect. Even when looking at our confusion matrix this model performs similarly to our TFIDF Logistic Regression above. I believe if we were to use on par parameters here as we did up there that this model would be our best one. However, just do to how long it took to run I dont think we can move forward with this model\n",
    "\n",
    "---"
   ]
  },
  {
   "cell_type": "markdown",
   "id": "bf7b72cf-beac-4ae9-9da6-ff5da460683f",
   "metadata": {},
   "source": [
    "At this point I dont think I will be using trees but I just wanted to try one last one to see how we do"
   ]
  },
  {
   "cell_type": "markdown",
   "id": "9a31bb44-e67d-4943-a943-374bd75187e0",
   "metadata": {},
   "source": [
    "### Random Forest Classifier"
   ]
  },
  {
   "cell_type": "code",
   "execution_count": 189,
   "id": "abb8694d-1fa1-45ea-8633-8c87dbc11c77",
   "metadata": {},
   "outputs": [],
   "source": [
    "rf = RandomForestClassifier()"
   ]
  },
  {
   "cell_type": "code",
   "execution_count": 299,
   "id": "0d447221-6e5d-4557-8c53-d611d6588ac6",
   "metadata": {},
   "outputs": [],
   "source": [
    "rf_params = {\n",
    "    'n_estimators': [150,250],\n",
    "    'max_depth': [None, 3,]\n",
    "}"
   ]
  },
  {
   "cell_type": "code",
   "execution_count": 304,
   "id": "27a54751-dcba-4e70-aa55-53f2d5ce2f6c",
   "metadata": {},
   "outputs": [
    {
     "data": {
      "text/plain": [
       "GridSearchCV(cv=5, estimator=RandomForestClassifier(), n_jobs=-1,\n",
       "             param_grid={'max_depth': [None, 3], 'n_estimators': [150, 250]})"
      ]
     },
     "execution_count": 304,
     "metadata": {},
     "output_type": "execute_result"
    }
   ],
   "source": [
    "grid_rf = GridSearchCV(rf, param_grid=rf_params, cv=5, n_jobs=-1)\n",
    "grid_rf.fit(X_train_tvec, y_train)"
   ]
  },
  {
   "cell_type": "code",
   "execution_count": 305,
   "id": "5008fb3c-052f-4ac1-9be6-b5fdf5250d98",
   "metadata": {},
   "outputs": [
    {
     "data": {
      "text/plain": [
       "{'max_depth': None, 'n_estimators': 250}"
      ]
     },
     "execution_count": 305,
     "metadata": {},
     "output_type": "execute_result"
    }
   ],
   "source": [
    "grid_rf.best_params_"
   ]
  },
  {
   "cell_type": "code",
   "execution_count": 306,
   "id": "656bf4b6-91ff-489a-a2db-705fcb1bdd87",
   "metadata": {},
   "outputs": [
    {
     "data": {
      "text/plain": [
       "RandomForestClassifier(n_estimators=250)"
      ]
     },
     "execution_count": 306,
     "metadata": {},
     "output_type": "execute_result"
    }
   ],
   "source": [
    "grid_rf.best_estimator_"
   ]
  },
  {
   "cell_type": "code",
   "execution_count": 307,
   "id": "57f671ce-b9f9-4638-9407-54cb0a23483a",
   "metadata": {},
   "outputs": [
    {
     "name": "stdout",
     "output_type": "stream",
     "text": [
      "Random Forest Classifier had a train score of: 0.9980370774263904\n",
      "Random Forest Classifier had a test score of: 0.8087649402390438\n"
     ]
    }
   ],
   "source": [
    "print(f'Random Forest Classifier had a train score of: {grid_rf.score(X_train_tvec, y_train)}')\n",
    "print(f'Random Forest Classifier had a test score of: {grid_rf.score(X_test_tvec, y_test)}')"
   ]
  },
  {
   "cell_type": "code",
   "execution_count": 308,
   "id": "06fb3be6-0a4a-4831-8bf4-4ddcb9e51856",
   "metadata": {},
   "outputs": [],
   "source": [
    "#Prediction\n",
    "preds_rf = grid_rf.predict(X_test_tvec)\n",
    "#Values for confusion matrix\n",
    "tn, fp, fn, tp = confusion_matrix(y_test, preds_rf).ravel()"
   ]
  },
  {
   "cell_type": "code",
   "execution_count": 309,
   "id": "08864944-1aff-4c86-9246-66140449f0be",
   "metadata": {},
   "outputs": [
    {
     "data": {
      "image/png": "[encoded data removed]",
      "text/plain": [
       "<Figure size 640x480 with 2 Axes>"
      ]
     },
     "metadata": {},
     "output_type": "display_data"
    }
   ],
   "source": [
    "ConfusionMatrixDisplay.from_estimator(grid_rf, X_test_tvec, y_test, cmap='Blues', values_format='d');"
   ]
  },
  {
   "cell_type": "code",
   "execution_count": 310,
   "id": "a5d37994-ecdb-45a9-ab90-de35c57c731d",
   "metadata": {},
   "outputs": [],
   "source": [
    "#Sensitivity\n",
    "sensitivity = tp / (tp+fn)\n",
    "#Specificity\n",
    "specificity  = tn/(tn+fp)\n",
    "#F1 Score\n",
    "f1 = f1_score(y_test, preds_rf)"
   ]
  },
  {
   "cell_type": "code",
   "execution_count": 311,
   "id": "0db719e6-cf58-474e-8cae-7e337fdd3550",
   "metadata": {},
   "outputs": [
    {
     "name": "stdout",
     "output_type": "stream",
     "text": [
      "RF had a sensitivity of: 0.7404782993799823\n",
      "RF had a specificty of: 0.8769911504424779\n",
      "RF had a f1 score of: 0.7946768060836502\n"
     ]
    }
   ],
   "source": [
    "print(f'RF had a sensitivity of: {sensitivity}')\n",
    "print(f'RF had a specificty of: {specificity}')\n",
    "print(f'RF had a f1 score of: {f1}')"
   ]
  },
  {
   "cell_type": "markdown",
   "id": "640dcb7a-8049-4ebe-b07b-cf8e773d776a",
   "metadata": {},
   "source": [
    "Suprisingly the model did really well on the train data but poorly on the test in respect. Due to high bias its hard to take this model seriously but it does do somewhat decent on the sensitivity and specificity and f1 score. However its clear its best params are a n-estimator of 150. To increase this to a number for optimization may take incredibly long to run and not worth it. I tried it at 250 and it still doesnt do better than Logistic Regression\n",
    "\n",
    "---"
   ]
  },
  {
   "cell_type": "markdown",
   "id": "6abaf91b-c235-4863-9b4b-215682fda680",
   "metadata": {},
   "source": [
    "Below I am trying SVM just to try it out on low params. I am curous to see how it does. Same as before, we do fitting,scoring, matrix, and asses.\n",
    "\n",
    "---"
   ]
  },
  {
   "cell_type": "markdown",
   "id": "d957c5a0-5e09-4c05-a525-5138d855ca4d",
   "metadata": {},
   "source": [
    "### SVM"
   ]
  },
  {
   "cell_type": "code",
   "execution_count": 312,
   "id": "99e9cbdc-fa52-432c-a1e0-dbaa42bf478a",
   "metadata": {},
   "outputs": [],
   "source": [
    "svc = SVC()"
   ]
  },
  {
   "cell_type": "code",
   "execution_count": 313,
   "id": "19e9f921-049a-4523-8822-6f20234c15df",
   "metadata": {},
   "outputs": [
    {
     "data": {
      "text/plain": [
       "SVC()"
      ]
     },
     "execution_count": 313,
     "metadata": {},
     "output_type": "execute_result"
    }
   ],
   "source": [
    "svc.fit(X_train_tvec, y_train)"
   ]
  },
  {
   "cell_type": "code",
   "execution_count": 314,
   "id": "038530c8-d216-4e0b-abfb-4b11a5a0b5f1",
   "metadata": {},
   "outputs": [],
   "source": [
    "preds_svc = svc.predict(X_test_tvec)"
   ]
  },
  {
   "cell_type": "code",
   "execution_count": 315,
   "id": "c2316e47-5664-4718-b7be-0a1b8ba93e75",
   "metadata": {},
   "outputs": [
    {
     "data": {
      "text/plain": [
       "(0.993020719738277, 0.7906153165117309)"
      ]
     },
     "execution_count": 315,
     "metadata": {},
     "output_type": "execute_result"
    }
   ],
   "source": [
    "svc.score(X_train_tvec, y_train), svc.score(X_test_tvec, y_test)"
   ]
  },
  {
   "cell_type": "code",
   "execution_count": 316,
   "id": "e5bfabe9-c9d0-4651-8c2b-415e1f17da20",
   "metadata": {},
   "outputs": [],
   "source": [
    "preds_svc = svc.predict(X_test_tvec)\n",
    "\n",
    "tn, fp, fn, tp = confusion_matrix(y_test, preds_svc).ravel()"
   ]
  },
  {
   "cell_type": "code",
   "execution_count": 317,
   "id": "15c48787-d0a7-4cd0-9858-2e1aaa48008e",
   "metadata": {},
   "outputs": [
    {
     "data": {
      "image/png": "[encoded data removed]",
      "text/plain": [
       "<Figure size 640x480 with 2 Axes>"
      ]
     },
     "metadata": {},
     "output_type": "display_data"
    }
   ],
   "source": [
    "ConfusionMatrixDisplay.from_estimator(svc, X_test_tvec, y_test, cmap='Blues', values_format='d');"
   ]
  },
  {
   "cell_type": "code",
   "execution_count": 359,
   "id": "642f2d22-e50c-4979-b576-de148218e908",
   "metadata": {},
   "outputs": [],
   "source": [
    "#Sensitivity\n",
    "sensitivity = tp / (tp+fn)\n",
    "#Specificity\n",
    "specificity  = tn/(tn+fp)\n",
    "#F1 Score\n",
    "f1 = f1_score(y_test, preds_svc)"
   ]
  },
  {
   "cell_type": "code",
   "execution_count": 360,
   "id": "91cf7e3d-1080-4f66-88eb-4f6dfd283a81",
   "metadata": {},
   "outputs": [
    {
     "name": "stdout",
     "output_type": "stream",
     "text": [
      "SVM had a sensitivity of: 0.8184233835252436\n",
      "SVM with a base LR had a specificty of: 0.8619469026548673\n",
      "SVM with a base LR had a f1 score of: 0.7792813812412505\n"
     ]
    }
   ],
   "source": [
    "print(f'SVM had a sensitivity of: {sensitivity}')\n",
    "print(f'SVM with a base LR had a specificty of: {specificity}')\n",
    "print(f'SVM with a base LR had a f1 score of: {f1}')"
   ]
  },
  {
   "cell_type": "markdown",
   "id": "07534a6a-e042-4cbf-9dde-4c7bb809a079",
   "metadata": {},
   "source": [
    "SVM actually did one of our best peformances all around. I am sure that if I took the teime to play with the C and the kernel that I could get this to perform a bit better but jsut knowing what we know about it being a black box method and runtime I would not like to use this model.\n",
    "\n",
    "---"
   ]
  },
  {
   "cell_type": "markdown",
   "id": "143bd458-096e-46f5-8daf-09d23ecfb83e",
   "metadata": {},
   "source": [
    "My anticipation going into ADA Boosting with Logistic Regression here will give us one of our best scores. I am only considering Logistic Regression as nothing else seems to be worth more time. Again we will fit, score, matrix, and asses\n",
    "\n",
    "---"
   ]
  },
  {
   "cell_type": "markdown",
   "id": "85a1ddfd-9cf0-400a-8117-b3c3bcaae043",
   "metadata": {},
   "source": [
    "### Ada Boosting and Gradient Boosting"
   ]
  },
  {
   "cell_type": "code",
   "execution_count": 333,
   "id": "21dd8f4f-8006-4384-bee1-030a9a52621b",
   "metadata": {},
   "outputs": [
    {
     "data": {
      "text/plain": [
       "(0.7585605234460197, 0.7224435590969456)"
      ]
     },
     "execution_count": 333,
     "metadata": {},
     "output_type": "execute_result"
    }
   ],
   "source": [
    "abc = AdaBoostClassifier(random_state=42, \n",
    "                   base_estimator=LogisticRegression(), \n",
    "                   n_estimators = 150)\n",
    "\n",
    "abc.fit(X_train_tvec, y_train)\n",
    "\n",
    "abc.score(X_train_tvec, y_train), abc.score(X_test_tvec, y_test)"
   ]
  },
  {
   "cell_type": "code",
   "execution_count": 334,
   "id": "96192bcd-a3ab-48f3-adad-4b07acef363b",
   "metadata": {},
   "outputs": [],
   "source": [
    "preds_abc = abc.predict(X_test_tvec)"
   ]
  },
  {
   "cell_type": "code",
   "execution_count": 335,
   "id": "ae76e70f-e347-4df4-b3d2-4c3d830484a1",
   "metadata": {},
   "outputs": [],
   "source": [
    "tn, fp, fn, tp = confusion_matrix(y_test, preds_abc).ravel()"
   ]
  },
  {
   "cell_type": "code",
   "execution_count": 336,
   "id": "36f1e106-b087-466e-82b3-334698004cd8",
   "metadata": {},
   "outputs": [
    {
     "data": {
      "image/png": "[encoded data removed]",
      "text/plain": [
       "<Figure size 640x480 with 2 Axes>"
      ]
     },
     "metadata": {},
     "output_type": "display_data"
    }
   ],
   "source": [
    "ConfusionMatrixDisplay.from_estimator(abc, X_test_tvec, y_test, cmap='Blues', values_format='d');"
   ]
  },
  {
   "cell_type": "code",
   "execution_count": 337,
   "id": "528e79f6-a449-46f8-b086-b2dc5df4dba5",
   "metadata": {},
   "outputs": [],
   "source": [
    "#Sensitivity\n",
    "sensitivity = tp / (tp+fn)\n",
    "#Specificity\n",
    "specificity  = tn/(tn+fp)\n",
    "#F1 Score\n",
    "f1 = f1_score(y_test, preds_abc)"
   ]
  },
  {
   "cell_type": "code",
   "execution_count": 338,
   "id": "a561f4c7-5514-4766-8dc4-56c318e0d994",
   "metadata": {},
   "outputs": [
    {
     "name": "stdout",
     "output_type": "stream",
     "text": [
      "ABC with a base LR had a sensitivity of: 0.5119574844995571\n",
      "ABC with a base LR had a specificty of: 0.9327433628318584\n",
      "ABC with a base LR had a f1 score of: 0.6483454851374089\n"
     ]
    }
   ],
   "source": [
    "print(f'ABC with a base LR had a sensitivity of: {sensitivity}')\n",
    "print(f'ABC with a base LR had a specificty of: {specificity}')\n",
    "print(f'ABC with a base LR had a f1 score of: {f1}')"
   ]
  },
  {
   "cell_type": "code",
   "execution_count": 341,
   "id": "2526870f-b930-43be-a55b-e4a7d8857812",
   "metadata": {},
   "outputs": [
    {
     "data": {
      "text/plain": [
       "(0.8198473282442749, 0.7724656927844179)"
      ]
     },
     "execution_count": 341,
     "metadata": {},
     "output_type": "execute_result"
    }
   ],
   "source": [
    "gbc = GradientBoostingClassifier()\n",
    "gbc.fit(X_train_tvec, y_train)\n",
    "\n",
    "gbc.score(X_train_tvec, y_train), gbc.score(X_test_tvec, y_test)"
   ]
  },
  {
   "cell_type": "code",
   "execution_count": 342,
   "id": "43ddebf9-e43e-4aed-821c-12bc690b1add",
   "metadata": {},
   "outputs": [],
   "source": [
    "preds_gbc = gbc.predict(X_test_tvec)"
   ]
  },
  {
   "cell_type": "code",
   "execution_count": 343,
   "id": "3b84a845-253e-48a4-8757-690948045ea9",
   "metadata": {},
   "outputs": [],
   "source": [
    "tn, fp, fn, tp = confusion_matrix(y_test, preds_gbc).ravel()"
   ]
  },
  {
   "cell_type": "code",
   "execution_count": 344,
   "id": "c7b8291c-2c6b-4058-85e9-b874caa792a1",
   "metadata": {},
   "outputs": [
    {
     "data": {
      "image/png": "[encoded data removed]",
      "text/plain": [
       "<Figure size 640x480 with 2 Axes>"
      ]
     },
     "metadata": {},
     "output_type": "display_data"
    }
   ],
   "source": [
    "ConfusionMatrixDisplay.from_estimator(gbc, X_test_tvec, y_test, cmap='Blues', values_format='d');"
   ]
  },
  {
   "cell_type": "code",
   "execution_count": 345,
   "id": "8ca68629-c70b-4f24-b892-1f1f24953aa8",
   "metadata": {},
   "outputs": [],
   "source": [
    "#Sensitivity\n",
    "sensitivity = tp / (tp+fn)\n",
    "#Specificity\n",
    "specificity  = tn/(tn+fp)\n",
    "#F1 Score\n",
    "f1 = f1_score(y_test, preds_gbc)"
   ]
  },
  {
   "cell_type": "code",
   "execution_count": 346,
   "id": "1688db72-b263-4504-ba92-06309f963ed3",
   "metadata": {},
   "outputs": [
    {
     "name": "stdout",
     "output_type": "stream",
     "text": [
      "ABC with a base LR had a sensitivity of: 0.6262178919397697\n",
      "ABC with a base LR had a specificty of: 0.9185840707964602\n",
      "ABC with a base LR had a f1 score of: 0.7334024896265561\n"
     ]
    }
   ],
   "source": [
    "print(f'ABC with a base LR had a sensitivity of: {sensitivity}')\n",
    "print(f'ABC with a base LR had a specificty of: {specificity}')\n",
    "print(f'ABC with a base LR had a f1 score of: {f1}')"
   ]
  },
  {
   "cell_type": "markdown",
   "id": "6a5b40c1-fb68-4513-a363-d6581d2b44ae",
   "metadata": {},
   "source": [
    "When it comes to ada boosting and gradient boosting I am sure I can do more analysis here and investigative work but just given the initial scores I dont believe its worth the time. Maybe I having bad luck with trees but since GBC base is a DTC i am going to not consider it in the final model. With ada it did not perform well anywhere in my opnion."
   ]
  },
  {
   "cell_type": "markdown",
   "id": "fadc3b8b-3436-43cc-bbf3-8685c9596d7a",
   "metadata": {},
   "source": [
    "### Best Overall Model: "
   ]
  },
  {
   "cell_type": "markdown",
   "id": "6bf39904-7516-40f2-b45a-2df44ff5acd2",
   "metadata": {},
   "source": [
    "So it turns out our best performing model was indeed Logsitic Regression TFIDF. Here I am going to play around with the parameters to see how much I can improve the F1 Score"
   ]
  },
  {
   "cell_type": "code",
   "execution_count": 347,
   "id": "c38e6d68-e861-4dfc-ad50-e23be8f4126b",
   "metadata": {},
   "outputs": [],
   "source": [
    "pipe = Pipeline([\n",
    "    ('tvec', TfidfVectorizer()),\n",
    "    ('lr', LogisticRegression())\n",
    "])"
   ]
  },
  {
   "cell_type": "code",
   "execution_count": 354,
   "id": "b54da068-15d3-44b6-a7f7-39abd405c461",
   "metadata": {},
   "outputs": [],
   "source": [
    "params = {\n",
    "    'tvec__max_features': [15000,20000],\n",
    "    'tvec__min_df': [3],\n",
    "    'tvec__max_df': [0.9, 0.95],\n",
    "    'tvec__ngram_range': [(1, 5), (1, 4)],\n",
    "    'tvec__stop_words': [None, 'english', nltk_stop]\n",
    "}"
   ]
  },
  {
   "cell_type": "code",
   "execution_count": 355,
   "id": "857d6308-1de5-4254-8451-5c5a927c6b68",
   "metadata": {},
   "outputs": [
    {
     "data": {
      "text/plain": [
       "GridSearchCV(cv=5,\n",
       "             estimator=Pipeline(steps=[('tvec', TfidfVectorizer()),\n",
       "                                       ('lr', LogisticRegression())]),\n",
       "             param_grid={'tvec__max_df': [0.9, 0.95],\n",
       "                         'tvec__max_features': [15000, 20000],\n",
       "                         'tvec__min_df': [3],\n",
       "                         'tvec__ngram_range': [(1, 5), (1, 4)],\n",
       "                         'tvec__stop_words': [None, 'english',\n",
       "                                              ['i', 'me', 'my', 'myself', 'we',\n",
       "                                               'our', 'ours', 'ourselves',\n",
       "                                               'you', \"you're\", \"you've\",\n",
       "                                               \"you'll\", \"you'd\", 'your',\n",
       "                                               'yours', 'yourself',\n",
       "                                               'yourselves', 'he', 'him', 'his',\n",
       "                                               'himself', 'she', \"she's\", 'her',\n",
       "                                               'hers', 'herself', 'it', \"it's\",\n",
       "                                               'its', 'itself', ...]]})"
      ]
     },
     "execution_count": 355,
     "metadata": {},
     "output_type": "execute_result"
    }
   ],
   "source": [
    "grid = GridSearchCV(pipe, params, cv=5)\n",
    "grid.fit(X_train, y_train)"
   ]
  },
  {
   "cell_type": "code",
   "execution_count": 357,
   "id": "7e2a5ff6-d3bf-4ef7-8991-ae1739c968c5",
   "metadata": {},
   "outputs": [
    {
     "name": "stdout",
     "output_type": "stream",
     "text": [
      "TVEC Logistic Regression had a best score of: 0.8444929116684842\n",
      "TVEC Logistic Regression had a train score of: 0.9363140676117775\n",
      "TVEC Logistic Regression had a test score of: 0.8397521027003099\n"
     ]
    }
   ],
   "source": [
    "#Best score\n",
    "best = grid.best_score_\n",
    "#Train score\n",
    "train_s = grid.score(X_train, y_train)\n",
    "#Test score and accuracy\n",
    "test_s = grid.score(X_test, y_test)\n",
    "print(f'TVEC Logistic Regression had a best score of: {best}')\n",
    "print(f'TVEC Logistic Regression had a train score of: {train_s}')\n",
    "print(f'TVEC Logistic Regression had a test score of: {test_s}')"
   ]
  },
  {
   "cell_type": "code",
   "execution_count": 358,
   "id": "e4a89c0e-b848-4175-b69d-cc34935761cb",
   "metadata": {},
   "outputs": [
    {
     "data": {
      "text/plain": [
       "{'tvec__max_df': 0.9,\n",
       " 'tvec__max_features': 15000,\n",
       " 'tvec__min_df': 3,\n",
       " 'tvec__ngram_range': (1, 4),\n",
       " 'tvec__stop_words': None}"
      ]
     },
     "execution_count": 358,
     "metadata": {},
     "output_type": "execute_result"
    }
   ],
   "source": [
    "grid.best_params_"
   ]
  },
  {
   "cell_type": "code",
   "execution_count": 352,
   "id": "4086d1bc-152a-419c-afe5-0f5e5bfe6380",
   "metadata": {},
   "outputs": [
    {
     "data": {
      "image/png": "[encoded data removed]",
      "text/plain": [
       "<Figure size 640x480 with 2 Axes>"
      ]
     },
     "metadata": {},
     "output_type": "display_data"
    }
   ],
   "source": [
    "#Prediction\n",
    "preds = grid.predict(X_test)\n",
    "#Values for confusion matrix\n",
    "tn, fp, fn, tp = confusion_matrix(y_test, preds).ravel()\n",
    "ConfusionMatrixDisplay.from_estimator(grid, X_test, y_test, cmap='Blues', values_format='d');"
   ]
  },
  {
   "cell_type": "code",
   "execution_count": 353,
   "id": "b1227d88-04e9-4c7d-871b-902410351b8c",
   "metadata": {},
   "outputs": [
    {
     "name": "stdout",
     "output_type": "stream",
     "text": [
      "TVEC Logistic Regression had a sensitivity of: 0.8184233835252436\n",
      "TVEC Logistic Regression had a specificty of: 0.8619469026548673\n",
      "TVEC Logistic Regression had a f1 score of: 0.8365776369397918\n"
     ]
    }
   ],
   "source": [
    "#Sensitivity\n",
    "sensitivity = tp / (tp+fn)\n",
    "#Specificity\n",
    "specificity  = tn/(tn+fp)\n",
    "#F1 Score\n",
    "f1 = f1_score(y_test, preds)\n",
    "print(f'TVEC Logistic Regression had a sensitivity of: {sensitivity}')\n",
    "print(f'TVEC Logistic Regression had a specificty of: {specificity}')\n",
    "print(f'TVEC Logistic Regression had a f1 score of: {f1}')"
   ]
  },
  {
   "cell_type": "markdown",
   "id": "72a7c164-8e52-4354-8943-3203f216b204",
   "metadata": {},
   "source": [
    "# Conclusion"
   ]
  },
  {
   "cell_type": "markdown",
   "id": "defa8494-a4f5-435a-9637-c58dd1f01d65",
   "metadata": {},
   "source": [
    "In conclusion it turns out being able to create accurate labeling models requires tons of features, n gram sizes, or depths on a tree implying just limitless NLP can be at its core. I am sure there are much better models in existence that can do NLP and I am sure if we have super computers we can push the limits with the hyperparameter tuning but what we got is the best we could do. OVerall I believe we did our best to address our problem statement of if we can make the most optimal model possible at guessing both human and ai and not just one or the other. I will discuss further thoughts in my readme"
   ]
  }
 ],
 "metadata": {
  "kernelspec": {
   "display_name": "Python 3 (ipykernel)",
   "language": "python",
   "name": "python3"
  },
  "language_info": {
   "codemirror_mode": {
    "name": "ipython",
    "version": 3
   },
   "file_extension": ".py",
   "mimetype": "text/x-python",
   "name": "python",
   "nbconvert_exporter": "python",
   "pygments_lexer": "ipython3",
   "version": "3.11.5"
  }
 },
 "nbformat": 4,
 "nbformat_minor": 5
}
